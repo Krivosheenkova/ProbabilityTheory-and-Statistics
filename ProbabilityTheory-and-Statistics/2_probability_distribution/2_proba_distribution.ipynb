{
 "cells": [
  {
   "cell_type": "code",
   "execution_count": 4,
   "metadata": {},
   "outputs": [],
   "source": [
    "from math import factorial, e"
   ]
  },
  {
   "cell_type": "markdown",
   "metadata": {},
   "source": [
    "$\\mathbf{\\text{Распределение Бернулли (Биномиальное распределение)}}$<br>\n",
    "***\n",
    "$\\large P_n(m) = C^m_n \\cdot p^m \\cdot q^{n - m} $"
   ]
  },
  {
   "cell_type": "markdown",
   "metadata": {},
   "source": [
    "$\\mathbf{\\text{Распределение Пуассона}}$<br>\n",
    "***\n",
    "$\\large P_m \\approx \\frac{\\lambda^m}{m!}e^{-\\lambda}  $"
   ]
  },
  {
   "cell_type": "code",
   "execution_count": 5,
   "metadata": {},
   "outputs": [],
   "source": [
    "def calc_combination(n, k):\n",
    "    return factorial(n) / (factorial(n - k) * factorial(k))"
   ]
  },
  {
   "cell_type": "code",
   "execution_count": 6,
   "metadata": {},
   "outputs": [],
   "source": [
    "def bernoulli(n, m, p):\n",
    "    q = 1 - p\n",
    "    return calc_combination(n, m) * (p**m) * (q**(n-m))"
   ]
  },
  {
   "cell_type": "code",
   "execution_count": 7,
   "metadata": {},
   "outputs": [],
   "source": [
    "def poisson(n, m, p):\n",
    "    l = n*p\n",
    "    return (l**m / factorial(m)) * e**(-l)"
   ]
  },
  {
   "cell_type": "markdown",
   "metadata": {},
   "source": [
    "#### 1. Вероятность того, что стрелок попадет в мишень, выстрелив один раз, равна 0.8. Стрелок выстрелил 100 раз. Найдите вероятность того, что стрелок попадет в цель ровно 85 раз."
   ]
  },
  {
   "cell_type": "markdown",
   "metadata": {},
   "source": [
    "$ A - {\\text{стрелок попадает в мишень}} $\n",
    "<br>\n",
    "$ P(A) = p = 0.8 $\n",
    "<br>\n",
    "$ n = 100 $\n",
    "<br>\n",
    "$ m = 85 $\n",
    "<br> \n",
    "Используя биномиальное распределение:\n",
    "<br>\n",
    "$ P_{100}(85) = C_{100}^{85} \\cdot 0.8^{85} \\cdot (1 - 0.8)^{100-85} \\approx 0.05 $"
   ]
  },
  {
   "cell_type": "code",
   "execution_count": 8,
   "metadata": {},
   "outputs": [
    {
     "name": "stdout",
     "output_type": "stream",
     "text": [
      "Стрелок попадет в мишень ровно 85 раз из 100 с вероятностью: 0.048061793700746355\n"
     ]
    }
   ],
   "source": [
    "n,m=100,85\n",
    "p = 0.8\n",
    "print('Стрелок попадет в мишень ровно 85 раз из 100 с вероятностью:', bernoulli(n, m, p))"
   ]
  },
  {
   "cell_type": "markdown",
   "metadata": {},
   "source": [
    "Используя распределение Пуассона:<br>\n",
    "$ \\lambda = np = 100 \\cdot 0.8 = 80 $\n",
    "<br>\n",
    "$ P_{85} \\approx \\frac{80^{85}}{85!}e^{-80} \\approx 0.04$ "
   ]
  },
  {
   "cell_type": "code",
   "execution_count": 9,
   "metadata": {},
   "outputs": [
    {
     "name": "stdout",
     "output_type": "stream",
     "text": [
      "Стрелок попадет в мишень ровно 85 раз из 100 с вероятностью: 0.037092614343691946\n"
     ]
    }
   ],
   "source": [
    "print('Стрелок попадет в мишень ровно 85 раз из 100 с вероятностью:', poisson(n, m, p))"
   ]
  },
  {
   "cell_type": "markdown",
   "metadata": {},
   "source": [
    "#### 2. Вероятность того, что лампочка перегорит в течение первого дня эксплуатации, равна 0.0004. В жилом комплексе после ремонта в один день включили 5000 новых лампочек. Какова вероятность, что ни одна из них не перегорит в первый день? Какова вероятность, что перегорят ровно две?"
   ]
  },
  {
   "cell_type": "markdown",
   "metadata": {},
   "source": [
    "$ A - {\\text{лампочка перегорит в течение первого дня эксплуатации}} $\n",
    "<br>\n",
    "$ P(A) = p = 0.0004 $\n",
    "<br>\n",
    "$ n = 5000 $\n",
    "<br>\n",
    "$ m = 0 $\n",
    "<br> \n",
    "\n",
    "Ипользуя формулу распределения Пуассона:<br>\n",
    "$\\lambda = np = 5000 * 0.0004 = 2 $<br>\n",
    "$P_{0} = \\frac{2^0}{0!}2.72^{-2} \\approx 0.14 $"
   ]
  },
  {
   "cell_type": "code",
   "execution_count": 10,
   "metadata": {},
   "outputs": [
    {
     "name": "stdout",
     "output_type": "stream",
     "text": [
      "Вероятность, что ни одна лампочка не перегорит в первый день эксплуатации: 0.1353352832366127\n"
     ]
    }
   ],
   "source": [
    "n,m = 5000, 0\n",
    "p = 0.0004\n",
    "print('Вероятность, что ни одна лампочка не перегорит в первый день эксплуатации:', poisson(n, m, p))"
   ]
  },
  {
   "cell_type": "markdown",
   "metadata": {},
   "source": [
    "$ m = 2 $\n",
    "<br> \n",
    "\n",
    "Ипользуя формулу распределения Пуассона:<br>\n",
    "$P_{2} = \\frac{2^2}{2!}2.72^{-2} \\approx 0.27 $"
   ]
  },
  {
   "cell_type": "code",
   "execution_count": 11,
   "metadata": {},
   "outputs": [
    {
     "name": "stdout",
     "output_type": "stream",
     "text": [
      "Вероятность, что две лампочки в первый день эксплуатации: 0.2706705664732254\n"
     ]
    }
   ],
   "source": [
    "m = 2\n",
    "print('Вероятность, что две лампочки в первый день эксплуатации:', poisson(n, m, p))"
   ]
  },
  {
   "cell_type": "markdown",
   "metadata": {},
   "source": [
    "#### 3. Монету подбросили 144 раза. Какова вероятность, что орел выпадет ровно 70 раз?"
   ]
  },
  {
   "cell_type": "code",
   "execution_count": 11,
   "metadata": {},
   "outputs": [
    {
     "name": "stdout",
     "output_type": "stream",
     "text": [
      "Орел выпадет ровно 70 раз из 144 с вероятностью: 0.046309172162262977\n"
     ]
    }
   ],
   "source": [
    "n, m = 144, 70\n",
    "p = 0.5\n",
    "print('Орел выпадет ровно 70 раз из 144 с вероятностью:', poisson(n, m, p))"
   ]
  },
  {
   "cell_type": "markdown",
   "metadata": {},
   "source": [
    "#### 4. В первом ящике находится 10 мячей, из которых 7 - белые. Во втором ящике - 11 мячей, из которых 9 белых. Из каждого ящика вытаскивают случайным образом по два мяча. Какова вероятность того, что все мячи белые? Какова вероятность того, что ровно два мяча белые? Какова вероятность того, что хотя бы один мяч белый?"
   ]
  },
  {
   "cell_type": "markdown",
   "metadata": {},
   "source": [
    "$ A - {\\text{мяч оказался белым}} $<br>\n",
    "\n",
    "Вероятность последовательно вытащить два белых мяча из первого и второго ящика соответственно:<br>\n",
    "$ P_{ББ}(K_1) = \\frac{7}{10} \\cdot \\frac{6}{9} = \\frac{7}{15} \\approx 0.47 $<br>\n",
    "$ P_{ББ}(K_2) = \\frac{9}{11} \\cdot \\frac{8}{10} = \\frac{36}{55} \\approx 0.65 $<br>\n",
    "\n",
    "Вероятность вытащить по два белых мяча из двух ящиков:<br>\n",
    "$ P_{ББ ББ}(K_1, K_2) = P_{ББ}(K_1) * P_{ББ}(K_2) \\approx 0.3 $<br>\n",
    "\n",
    "Вероятность вытащить ровно два белых мяча:<br>\n",
    "$P_{2}(K_1, K_2) = P_{ББ ЧЧ}(K_1, K_2) + P_{ЧЧ ББ}(K_1, K_2) + P_{БЧ БЧ}(K_1, K_2)$<br>\n",
    "\n",
    "$ P_{ББ ЧЧ}(K_1, K_2) = \\frac{C_{2}^{7}}{C_{2}^{10}} \\cdot \\frac{C_{2}^{2}}{C_{2}^{11}} \\approx 0.09 $<br>\n",
    "$ P_{ЧЧ ББ}(K_1, K_2) = \\frac{C_{2}^{3}}{C_{2}^{10}} \\cdot \\frac{C_{2}^{9}}{C_{2}^{11}} \\approx 0.04 $<br>\n",
    "$ P_{БЧ БЧ}(K_1, K_2) = (\\frac{7}{10} \\cdot \\frac{3}{9}) \\cdot (\\frac{9}{11} \\cdot \\frac{2}{10}) \\approx 0.04 $<br>\n",
    "\n",
    "$ P_{2}(K_1, K_2) \\approx 0.17 $<br>\n",
    "\n",
    "Вероятность вытащить хотя бы один белый:<br>\n",
    "$ P_{|A|\\geq1}(K_1, K_2) = P_{ББ ББ} + P_{БЧ ББ} + P_{ББ БЧ} + P_{ББ ЧЧ} + P_{ЧЧ ББ} + P_{БЧ БЧ} + P_{ЧЧ БЧ} + P_{БЧ ЧЧ} = \\frac{84}{275} + \\frac{42}{275} + \\frac{21}{275} + \\frac{7}{825} + \\frac{12}{275} + \\frac{21}{550} + \\frac{3}{275} + \\frac{7}{1650} \\approx 0.6 $"
   ]
  },
  {
   "cell_type": "code",
   "execution_count": 24,
   "metadata": {},
   "outputs": [],
   "source": [
    "# Тут я что-то совсем запуталась"
   ]
  }
 ],
 "metadata": {
  "kernelspec": {
   "display_name": "Python 3",
   "language": "python",
   "name": "python3"
  },
  "language_info": {
   "codemirror_mode": {
    "name": "ipython",
    "version": 3
   },
   "file_extension": ".py",
   "mimetype": "text/x-python",
   "name": "python",
   "nbconvert_exporter": "python",
   "pygments_lexer": "ipython3",
   "version": "3.8.5"
  },
  "toc": {
   "base_numbering": 1,
   "nav_menu": {},
   "number_sections": false,
   "sideBar": true,
   "skip_h1_title": false,
   "title_cell": "Table of Contents",
   "title_sidebar": "Contents",
   "toc_cell": false,
   "toc_position": {},
   "toc_section_display": true,
   "toc_window_display": false
  }
 },
 "nbformat": 4,
 "nbformat_minor": 4
}
