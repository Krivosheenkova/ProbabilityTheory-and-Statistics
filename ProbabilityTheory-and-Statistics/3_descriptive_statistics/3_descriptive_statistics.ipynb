{
 "cells": [
  {
   "cell_type": "markdown",
   "metadata": {},
   "source": [
    "# Практическое задание к уроку 3. Описательная статистика. Качественные и количественные характеристики популяции. Графическое представление данных."
   ]
  },
  {
   "cell_type": "markdown",
   "metadata": {},
   "source": [
    "#### 1. Даны значения зарплат из выборки выпускников: 100, 80, 75, 77, 89, 33, 45, 25, 65, 17, 30, 24, 57, 55, 70, 75, 65, 84, 90, 150. Посчитать (желательно без использования статистических методов наподобие std, var, mean) среднее арифметическое, среднее квадратичное отклонение, смещенную и несмещенную оценки дисперсий для данной выборки"
   ]
  },
  {
   "cell_type": "code",
   "execution_count": 19,
   "metadata": {},
   "outputs": [],
   "source": [
    "salaries = [100, 80, 75, 77, 89, 33, 45, 25, 65, 17, 30, 24, 57, 55, 70, 75, 65, 84, 90, 150]\n",
    "mean = sum(salaries) / len(salaries)\n",
    "std = (sum([(i - mean)**2 for i in salaries]) / len(salaries))**0.5\n",
    "var0 = std ** 2\n",
    "var1 = sum([(i - mean)**2 for i in salaries]) / (len(salaries) - 1)"
   ]
  },
  {
   "cell_type": "code",
   "execution_count": 27,
   "metadata": {},
   "outputs": [
    {
     "name": "stdout",
     "output_type": "stream",
     "text": [
      "Выборка:\n",
      " 100 80 75 77 89 33 45 25 65 17 30 24 57 55 70 75 65 84 90 150\n",
      "Среднее арифметическое: 65.3\n",
      "Среднее квадратичное отклонение: 30.823854398825596\n",
      "Смещенная оценка дисперсии: 1000.1157894736842\n",
      "Несмещенная оценка дисперсии: 950.11\n"
     ]
    }
   ],
   "source": [
    "print('Выборка:\\n', *salaries)\n",
    "print(f'Среднее арифметическое: {mean}')\n",
    "print(f'Среднее квадратичное отклонение: {std}')\n",
    "print(f'Смещенная оценка дисперсии: {var1}')\n",
    "print(f'Несмещенная оценка дисперсии: {var0}')"
   ]
  },
  {
   "cell_type": "markdown",
   "metadata": {},
   "source": [
    "#### 2. В первом ящике находится 8 мячей, из которых 5 - белые. Во втором ящике - 12 мячей, из которых 5 белых. Из первого ящика вытаскивают случайным образом два мяча, из второго - 4. Какова вероятность того, что 3 мяча белые?"
   ]
  },
  {
   "cell_type": "markdown",
   "metadata": {},
   "source": [
    "$\\Large \\frac{C_5^1 \\cdot C_3^1}{C_8^2} \\cdot \\frac{C_5^2 \\cdot C_7^2}{C_{12}^4} \n",
    "+ \n",
    "\\frac{C_5^2}{C_8^2} \\cdot \\frac{C_5^1 \\cdot C_7^3}{C_{12}^4} \n",
    "+ \n",
    "\\frac{C_3^2}{C_8^2} \\cdot \\frac{C_5^3 \\cdot C_7^1}{C_{12}^4}\n",
    "\\approx 0.3(68)$"
   ]
  },
  {
   "cell_type": "code",
   "execution_count": 31,
   "metadata": {},
   "outputs": [],
   "source": [
    "from math import factorial\n",
    "import numpy as np"
   ]
  },
  {
   "cell_type": "code",
   "execution_count": 32,
   "metadata": {},
   "outputs": [],
   "source": [
    "def calc_combination(n, k):\n",
    "    return factorial(n) / (factorial(n - k) * factorial(k))"
   ]
  },
  {
   "cell_type": "code",
   "execution_count": 33,
   "metadata": {},
   "outputs": [
    {
     "data": {
      "text/plain": [
       "0.3686868686868687"
      ]
     },
     "execution_count": 33,
     "metadata": {},
     "output_type": "execute_result"
    }
   ],
   "source": [
    "((calc_combination(5, 1) * calc_combination(3, 1)) / calc_combination(8, 2))*((calc_combination(5, 2) * calc_combination(7, 2)) / calc_combination(12, 4))+(calc_combination(5, 2) / calc_combination(8, 2))*((calc_combination(5, 1) * calc_combination(7, 3)) / calc_combination(12, 4))+(calc_combination(3, 2) / calc_combination(8, 2))*((calc_combination(5, 3) * calc_combination(7, 1)) / calc_combination(12, 4))"
   ]
  },
  {
   "cell_type": "markdown",
   "metadata": {},
   "source": [
    "#### 3. На соревновании по биатлону один из трех спортсменов стреляет и попадает в мишень. Вероятность попадания для первого спортсмена равна 0.9, для второго — 0.8, для третьего — 0.6. Найти вероятность того, что выстрел произведен: a). первым спортсменом б). вторым спортсменом в). третьим спортсменом."
   ]
  },
  {
   "cell_type": "markdown",
   "metadata": {},
   "source": [
    "$ A - {\\text{стрелок попадает в мишень}} $\n",
    "<br>\n",
    "$ B_1 - {\\text{первый попадает в мишень}} $<br>\n",
    "$ B_2 - {\\text{второй попадает в мишень}} $<br>\n",
    "$ B_3 - {\\text{третий попадает в мишень}} $<br><br>\n",
    "$ P(B_1) = P(B_2) = P(B_3) = \\frac{1}{3} $<br>\n",
    "$ P(A|B_1) = 0.9 $<br>\n",
    "$ P(A|B_2) = 0.8 $<br>\n",
    "$ P(A|B_3) = 0.6 $<br><br>\n",
    "$ {\\text{По теореме Байеса  }} P(B|A)=\\frac{P(B) \\cdot P(A|B)}{P(A)}:$<br>\n",
    "$\\qquad \\text{а) Выстрел произведен первым спортсменом с вероятностью: } $\n",
    "$\\qquad \\qquad P(B_1|A) = \\frac{\\frac{1}{3} \\cdot 0.9}{\\frac{1}{3}(0.9+0.8+0.6)} \\approx \\underline{0.391} $<br><br>\n",
    "$\\qquad \\text{б) Выстрел произведен вторым спортсменом с вероятностью: } $<br>\n",
    "$\\qquad \\qquad P(B_2|A) = \\frac{\\frac{1}{3} \\cdot 0.8}{\\frac{1}{3}(0.9+0.8+0.6)} \\approx \\underline{0.347} $<br><br>\n",
    "$\\qquad \\text{в) Выстрел произведен третьим спортсменом с вероятностью: } $<br>\n",
    "$\\qquad \\qquad P(B_3|A) = \\frac{\\frac{1}{3} \\cdot 0.6}{\\frac{1}{3}(0.9+0.8+0.6)} \\approx \\underline{0.261} $"
   ]
  },
  {
   "cell_type": "code",
   "execution_count": 6,
   "metadata": {},
   "outputs": [],
   "source": [
    "def bayes(pA, pB, complete_proba: int):\n",
    "    return ((pA) * pB) / ((pA)*complete_proba)"
   ]
  },
  {
   "cell_type": "code",
   "execution_count": 9,
   "metadata": {},
   "outputs": [
    {
     "name": "stdout",
     "output_type": "stream",
     "text": [
      "a) P(B1) = 0.3913043478260869\n",
      "б) P(B2) = 0.34782608695652173\n",
      "в) P(B3) = 0.26086956521739124\n"
     ]
    }
   ],
   "source": [
    "p = 1/3\n",
    "p1, p2, p3 = .9, .8, .6\n",
    "comp_proba = sum([p1, p2, p3])\n",
    "\n",
    "fst = bayes(p, p1, comp_proba)\n",
    "snd = bayes(p, p2, comp_proba)\n",
    "trd = bayes(p, p3, comp_proba)\n",
    "\n",
    "print(f'a) P(B1) = {fst}')\n",
    "print(f'б) P(B2) = {snd}')\n",
    "print(f'в) P(B3) = {trd}')"
   ]
  },
  {
   "cell_type": "markdown",
   "metadata": {},
   "source": [
    "#### 4. В университет на факультеты A и B поступило равное количество студентов, а на факультет C студентов поступило столько же, сколько на A и B вместе. Вероятность того, что студент факультета A сдаст первую сессию, равна 0.8. Для студента факультета B эта вероятность равна 0.7, а для студента факультета C - 0.9. Студент сдал первую сессию. Какова вероятность, что он учится: a). на факультете A б). на факультете B в). на факультете C?"
   ]
  },
  {
   "cell_type": "markdown",
   "metadata": {},
   "source": [
    "$ A - {\\text{студент сдал первую сессию}} $\n",
    "<br>\n",
    "$ B_1 - {\\text{первый сдал}} $<br>\n",
    "$ B_2 - {\\text{второй сдал}} $<br>\n",
    "$ B_3 - {\\text{третий сдал}} $<br>\n",
    "<br>\n",
    "$ P(A|B_1) = 0.8 $<br>\n",
    "$ P(A|B_2) = 0.7 $<br>\n",
    "$ P(A|B_3) = 0.9 $<br>\n",
    "$ P(B_1) = P(B_2) = \\frac{1}{4} $<br>\n",
    "$ P(B_3) = \\frac{1}{2} $<br>\n",
    "$ P(A) = (1/4)\\cdot0.9+(1/4)\\cdot0.8+(1/2)\\cdot0.6 = 2.4 $<br><br>\n",
    "$ {\\text{По теореме Байеса  }} P(B|A)=\\frac{P(B) \\cdot P(A|B)}{P(A)}:$<br>\n",
    "$\\qquad \\text{а) Студент учится на факультете A с вероятностью: } $\n",
    "$\\qquad \\qquad P(B_1|A) = \\frac{0.25 \\cdot 0.8}{2.4} \\approx \\underline{0.(3)} $<br><br>\n",
    "$\\qquad \\text{б) Выстрел произведен вторым спортсменом с вероятностью: } $<br>\n",
    "$\\qquad \\qquad P(B_2|A) = \\frac{0.25 \\cdot 0.7}{2.4} \\approx \\underline{0.292} $<br><br>\n",
    "$\\qquad \\text{в) Выстрел произведен третьим спортсменом с вероятностью: } $<br>\n",
    "$\\qquad \\qquad P(B_3|A) = \\frac{0.5 \\cdot 0.9}{2.4} \\approx \\underline{0.375} $"
   ]
  },
  {
   "cell_type": "code",
   "execution_count": 10,
   "metadata": {},
   "outputs": [
    {
     "name": "stdout",
     "output_type": "stream",
     "text": [
      "a) P(B1) = 0.33333333333333337\n",
      "б) P(B2) = 0.2916666666666667\n",
      "в) P(B3) = 0.375\n"
     ]
    }
   ],
   "source": [
    "ab12 = 1/3\n",
    "ab3 = 1/2\n",
    "p1, p2, p3 = .8, .7, .9\n",
    "comp_proba = sum([p1, p2, p3])\n",
    "\n",
    "fst = bayes(ab12, p1, comp_proba)\n",
    "snd = bayes(ab12, p2, comp_proba)\n",
    "trd = bayes(ab3, p3, comp_proba)\n",
    "\n",
    "print(f'a) P(B1) = {fst}')\n",
    "print(f'б) P(B2) = {snd}')\n",
    "print(f'в) P(B3) = {trd}')"
   ]
  },
  {
   "cell_type": "markdown",
   "metadata": {},
   "source": [
    "#### 5. Устройство состоит из трех деталей. Для первой детали вероятность выйти из строя в первый месяц равна 0.1, для второй - 0.2, для третьей - 0.25. Какова вероятность того, что в первый месяц выйдут из строя: а). все детали б). только две детали в). хотя бы одна деталь г). от одной до двух деталей?"
   ]
  },
  {
   "cell_type": "markdown",
   "metadata": {},
   "source": [
    "$ A - {\\text{Деталь выйдет из строя в первый месяц}} $<br>\n",
    "$ P(B_1) = 0.1 $, $ P(B_2) = 0.2 $, $ P(B_3) = 0.25 $ \n",
    "<br><br>\n",
    "$ a) {\\text{ Вероятность, что все детали выйдут из строя:}}$<br>\n",
    "$\\quad P_{B_1, B_2, B_3}(A) = 0.1 \\cdot 0.2 \\cdot 0.25 \\approx \\underline{0.005} $<br><br>\n",
    "$ б) {\\text{ Вероятность, что только две детали выйдут из строя:}}$<br> \n",
    "$ \\quad P_{2}(A) = 0.1 \\cdot 0.2 \\cdot (1 - 0.25) + (1 - 0.1) \\cdot 0.2 \\cdot 0.25 + 0.1 \\cdot (1 - 0.2) \\cdot 0.25 \\approx \\underline{0.08} $<br><br>\n",
    "$ в) {\\text{ Вероятность, что хотя бы одна деталь выйдет из строя:}} $<br>\n",
    "$ \\quad P_{\\geq1}(A) = 1 - ((1 - 0.1) \\cdot (1 - 0.2) \\cdot (1 - 0.25)) \\approx \\underline{0.46} $<br><br>\n",
    "$ г) {\\text{ Вероятность, что 1 или 2 детали выйдут из строя:}} $<br>\n",
    "$ \\quad P_{1|2} = ((1-0.1)\\cdot(1 - 0.2)\\cdot0.25) + ((1 - 0.1)\\cdot0.2\\cdot(1 - 0.25)) + (0.1\\cdot(1 - 0.2)\\cdot(1 - 0.25)+P_2(A) \\approx \\underline{0.455} $"
   ]
  },
  {
   "cell_type": "code",
   "execution_count": 35,
   "metadata": {},
   "outputs": [
    {
     "name": "stdout",
     "output_type": "stream",
     "text": [
      "Вероятность, что все детали выйдут из строя: 0.005000000000000001\n",
      "Вероятность, что только две детали выйдут из строя: 0.08\n",
      "Вероятность, что хотя бы одна деталь выйдет из строя: 0.45999999999999996\n",
      "Вероятность, что 1 или 2 детали выйдут из строя: 0.45500000000000007\n"
     ]
    }
   ],
   "source": [
    "p1, p2, p3 = .1, .2, .25 # выйдут из строя\n",
    "_p1, _p2, _p3 = 1 - p1, 1 - p2, 1 - p3 # не выйдут из строя\n",
    "pa = np.prod([p1, p2, p3]) \n",
    "pb = np.prod([_p1, p2, p3]) + np.prod([p1, _p2, p3]) + np.prod([p1, p2, _p3])\n",
    "pc = 1 - np.prod([_p1, _p2, _p3])\n",
    "pd = np.prod([_p1, _p2, p3]) + np.prod([p1, _p2, _p3]) + np.prod([_p1, p2, _p3]) + pb\n",
    "print('Вероятность, что все детали выйдут из строя:', pa)\n",
    "print('Вероятность, что только две детали выйдут из строя:', pb)\n",
    "print('Вероятность, что хотя бы одна деталь выйдет из строя:', pc)\n",
    "print('Вероятность, что 1 или 2 детали выйдут из строя:', pd)"
   ]
  }
 ],
 "metadata": {
  "kernelspec": {
   "display_name": "Python 3",
   "language": "python",
   "name": "python3"
  },
  "language_info": {
   "codemirror_mode": {
    "name": "ipython",
    "version": 3
   },
   "file_extension": ".py",
   "mimetype": "text/x-python",
   "name": "python",
   "nbconvert_exporter": "python",
   "pygments_lexer": "ipython3",
   "version": "3.8.5"
  },
  "toc": {
   "base_numbering": 1,
   "nav_menu": {},
   "number_sections": false,
   "sideBar": false,
   "skip_h1_title": false,
   "title_cell": "Table of Contents",
   "title_sidebar": "Contents",
   "toc_cell": false,
   "toc_position": {
    "height": "486.364px",
    "left": "339px",
    "top": "156.284px",
    "width": "290.909px"
   },
   "toc_section_display": true,
   "toc_window_display": false
  }
 },
 "nbformat": 4,
 "nbformat_minor": 4
}
