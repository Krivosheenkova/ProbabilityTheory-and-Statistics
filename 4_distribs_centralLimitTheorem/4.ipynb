{
 "cells": [
  {
   "cell_type": "code",
   "execution_count": 28,
   "metadata": {},
   "outputs": [],
   "source": [
    "from math import exp, e, pi, sqrt\n",
    "import numpy as np\n",
    "import matplotlib.pyplot as plt\n",
    "%matplotlib inline"
   ]
  },
  {
   "cell_type": "markdown",
   "metadata": {},
   "source": [
    "**1.**<br> \n",
    "Случайная непрерывная величина A имеет равномерное распределение на промежутке (200, 800].\n",
    "Найдите ее среднее значение и дисперсию."
   ]
  },
  {
   "cell_type": "markdown",
   "metadata": {},
   "source": [
    "$ a = 200 \\qquad b = 800 $<br>\n",
    "\n",
    "$ M(X) = \\frac{a + b}{2} = 500 $<br>\n",
    "$ D(X) = \\frac{(b - a)^2}{12} = \\frac{360000}{12}= 3\\cdot10^4 $"
   ]
  },
  {
   "cell_type": "markdown",
   "metadata": {},
   "source": [
    "**2.** <br>\n",
    "О случайной непрерывной равномерно распределенной величине B известно, что ее дисперсия равна 0.2.\n",
    "Можно ли найти правую границу величины B и ее среднее значение зная, что левая граница равна 0.5?\n",
    "Если да, найдите ее."
   ]
  },
  {
   "cell_type": "markdown",
   "metadata": {},
   "source": [
    "$D(X) = 0.2 \\qquad a = 0.5$<br>\n",
    "$D(X) = \\frac{(b - a)^2}{12}\\quad \\Rightarrow \\quad$\n",
    "$ (b - a)^2 = 12D(X) $<br>\n",
    "\n",
    "$ b = \\sqrt{12D(X)} + a $<br>\n",
    "$ b = \\sqrt{12\\cdot0.2} + 0.5  \\approx 2.05$<br>\n",
    "\n",
    "$ M(X) = \\frac{0.5+2.05}{2} = 1.28 $"
   ]
  },
  {
   "cell_type": "markdown",
   "metadata": {},
   "source": [
    "**3.**<br>\n",
    "Непрерывная случайная величина X распределена нормально и задана плотностью распределения\n",
    "$ f(x) = \\frac{1}{4 \\cdot \\sqrt{2\\pi}} \\cdot e^{-\\frac{(x+2) \\cdot 2}{32}} $.<br>\n",
    "**Найдите:\n",
    "а). M(X)\n",
    "б). D(X)\n",
    "в). std(X) (среднее квадратичное отклонение)**"
   ]
  },
  {
   "cell_type": "markdown",
   "metadata": {},
   "source": [
    "$\\large f(x)  = \\frac{1}{\\sigma \\sqrt{2\\pi}}e^{-\\frac{(x-\\mu)^2}{2\\sigma^2}}$"
   ]
  },
  {
   "cell_type": "markdown",
   "metadata": {},
   "source": [
    "$ M(X) = -2 \\qquad D(X) = 16 \\qquad std(X)=4$"
   ]
  },
  {
   "cell_type": "markdown",
   "metadata": {},
   "source": [
    "**4.**<br>\n",
    "Рост взрослого населения города X имеет нормальное распределение.\n",
    "Причем, средний рост равен 174 см, а среднее квадратичное отклонение равно 8 см."
   ]
  },
  {
   "cell_type": "code",
   "execution_count": 121,
   "metadata": {},
   "outputs": [],
   "source": [
    "import scipy.stats as stats\n",
    "import matplotlib.pyplot as plt\n",
    "import numpy as np\n",
    "mu, sigma = 174, 8\n",
    "a, b = mu - 3.5*sigma, mu + 3.5*sigma\n",
    "dist = stats.truncnorm((a - mu) / sigma, (b - mu) / sigma, loc=mu, scale=sigma)\n",
    "values = dist.rvs(10000)"
   ]
  },
  {
   "cell_type": "code",
   "execution_count": 147,
   "metadata": {},
   "outputs": [
    {
     "data": {
      "image/png": "[encoded data removed]",
      "text/plain": [
       "<Figure size 1152x288 with 1 Axes>"
      ]
     },
     "metadata": {},
     "output_type": "display_data"
    }
   ],
   "source": [
    "fig, ax = plt.subplots(figsize=(16, 4))\n",
    "sns.histplot(ax=ax, data=values, kde=True);\n",
    "\n",
    "plt.axvline(mu, 0,500, c='#51ff0c', linewidth=3);\n",
    "plt.axvline(mu-sigma, 0,500, c='#fdff0c', linewidth=3);\n",
    "plt.axvline(mu+sigma, 0,500, c='#fdff0c', linewidth=3);\n",
    "plt.axvline(mu+sigma, 0,500, c='#fdff0c', linewidth=3);\n",
    "plt.axvline(mu+2*sigma, 0,500, c='#ffce00', linewidth=3);\n",
    "plt.axvline(mu-2*sigma, 0,500, c='#ffce00', linewidth=3);\n",
    "plt.axvline(mu+3*sigma, 0,500, c='#ff3300', linewidth=3);\n",
    "plt.axvline(mu-3*sigma, 0,500, c='#ff3300', linewidth=3);\n",
    "plt.text(x=177, y=210, s='34.1%', c='w', size=15)\n",
    "plt.text(x=170, y=210, s='34.1%', c='w', size=15)\n",
    "plt.text(x=161, y=55, s='13.6%', c='w', size=15)\n",
    "plt.text(x=184, y=55, s='13.6%', c='w', size=15)\n",
    "plt.text(x=154, y=100, s='2.15%', size=10)\n",
    "plt.text(x=194, y=100, s='2.15%', size=10)\n",
    "plt.text(x=200, y=50, s='0.15%', size=10)\n",
    "plt.text(x=146, y=50, s='0.15%', size=10)\n",
    "sigmas = [mu-3*sigma,mu-2*sigma, mu-1*sigma, mu, mu+sigma*1, mu+2*sigma, mu+3*sigma]\n",
    "ax.set_xticks(sigmas);"
   ]
  },
  {
   "cell_type": "markdown",
   "metadata": {},
   "source": [
    "Какова вероятность того, что случайным образом выбранный взрослый человек имеет рост:\n",
    "а) больше 182 см<br>$ \\frac{13.6 + 2.15}{100} = 0.16 $<br>\n",
    "б) больше 190 см<br>$ \\frac{2.15 + 0.15}{100} = 0.23 $<br>\n",
    "в) от 166 см до 190 см<br>$ \\frac{100 - (0.15 + 2.15 + 13.6)}{100} = 0.84 $<br>\n",
    "г) от 166 см до 182 см<br>$ \\frac{(34.6\\cdot2)}{100} =0.69$<br>\n",
    "д) от 158 см до 190 см<br>$ \\frac{34.6\\cdot2 + 13.6\\cdot2}{100} = 0.96 $<br>\n",
    "е) не выше 150 см или не ниже 190 см<br>$ \\frac{0.15\\cdot2 + 2.15}{100} = 0.025 $<br>\n",
    "ё) не выше 150 см или не ниже 198 см<br>$ \\frac{0.15\\cdot2}{100}= 0.003 $<br>\n",
    "ж) ниже 166 см.<br>$ \\frac{0.15+2.15+13.6}{100} = 0.16 $"
   ]
  },
  {
   "cell_type": "markdown",
   "metadata": {},
   "source": [
    "**5.**<br>\n",
    "На сколько сигм (средних квадратичных отклонений) отклоняется рост человека, равный 190 см, от\n",
    "математического ожидания роста в популяции, в которой M(X) = 178 см и D(X) = 25 кв.см?"
   ]
  },
  {
   "cell_type": "markdown",
   "metadata": {},
   "source": [
    "$D(X) = 25 \\qquad M(X) = 178$<br>\n",
    "$std(X) = \\sqrt{D(X)} = 5$<br>\n",
    "$x = 190$<br>\n",
    "\n",
    "$\\frac{x - M(X)}{std(X)}= \\frac{12}{5}= 2.4$"
   ]
  }
 ],
 "metadata": {
  "kernelspec": {
   "display_name": "Python 3",
   "language": "python",
   "name": "python3"
  },
  "language_info": {
   "codemirror_mode": {
    "name": "ipython",
    "version": 3
   },
   "file_extension": ".py",
   "mimetype": "text/x-python",
   "name": "python",
   "nbconvert_exporter": "python",
   "pygments_lexer": "ipython3",
   "version": "3.8.5"
  },
  "toc": {
   "base_numbering": 1,
   "nav_menu": {},
   "number_sections": true,
   "sideBar": true,
   "skip_h1_title": false,
   "title_cell": "Table of Contents",
   "title_sidebar": "Contents",
   "toc_cell": false,
   "toc_position": {},
   "toc_section_display": true,
   "toc_window_display": false
  }
 },
 "nbformat": 4,
 "nbformat_minor": 4
}
