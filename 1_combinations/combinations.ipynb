{
 "cells": [
  {
   "cell_type": "code",
   "execution_count": 78,
   "metadata": {},
   "outputs": [],
   "source": [
    "from math import factorial"
   ]
  },
  {
   "cell_type": "markdown",
   "metadata": {},
   "source": [
    "#### 1. Из колоды в 52 карты извлекаются случайным образом 4 карты. "
   ]
  },
  {
   "cell_type": "markdown",
   "metadata": {},
   "source": [
    "##### a) Найти вероятность того, что все карты – крести. "
   ]
  },
  {
   "cell_type": "code",
   "execution_count": 79,
   "metadata": {},
   "outputs": [],
   "source": [
    "def calc_combination(n, k):\n",
    "    return factorial(n) / (factorial(n - k) * factorial(k))"
   ]
  },
  {
   "cell_type": "code",
   "execution_count": 80,
   "metadata": {},
   "outputs": [],
   "source": [
    "deck = 52\n",
    "n_samples = 4"
   ]
  },
  {
   "cell_type": "markdown",
   "metadata": {},
   "source": [
    "$\\large C^4_{52} = \\frac{52!}{4!48!} = 49 \\centerdot 25 \\centerdot 17 \\centerdot 13 = 270 725 $\n",
    "$$$$\n",
    "$\\large C^4_{13} = \\frac{13!}{4!9!} = 5 \\centerdot 11 \\centerdot 13 = 715 $\n",
    "$$$$\n",
    "$\\large P(A) = \\frac{C^4_{13}}{C^4_{52}} = \\frac{715}{270725} = 0.002641 $"
   ]
  },
  {
   "cell_type": "code",
   "execution_count": 81,
   "metadata": {},
   "outputs": [
    {
     "name": "stdout",
     "output_type": "stream",
     "text": [
      "P(A) = 0.0026410564225690276\n"
     ]
    }
   ],
   "source": [
    "cross_count = deck / 4\n",
    "\n",
    "total_comb = calc_combination(deck, n_samples)\n",
    "cross_comb = calc_combination(cross_count, n_samples)\n",
    "\n",
    "proba = cross_comb / total_comb\n",
    "\n",
    "print('P(A) =',proba)"
   ]
  },
  {
   "cell_type": "markdown",
   "metadata": {},
   "source": [
    "##### б) Найти вероятность, что среди 4-х карт окажется хотя бы один туз."
   ]
  },
  {
   "cell_type": "markdown",
   "metadata": {},
   "source": [
    "Число способов выбрать 4 карты, исключив 4 карты из колоды:\n",
    "$$$$\n",
    "$\\large C^4_{48} = \\frac{48!}{4!44!} = 15 \\centerdot 23 \\centerdot 47 \\centerdot 12 = 194580 $\n",
    "$$$$\n",
    "Число способов выбрать 4 карты с (1 | 2 | 3 | 4) тузами:\n",
    "$$$$\n",
    "$C_{aces} = C_{1}+C_{2}+C_{3}+C_{4}$\n",
    "$$$$\n",
    "$\\large C_{aces} = C^4_{52} - C^4_{48} = 270725 - 194580 = 76145 $\n",
    "$$$$\n",
    "Вер-ть выбрать 4 карты так, чтобы получить хотя бы один туз:\n",
    "$$$$\n",
    "$\\large P(A) = \\frac{C_{aces}}{C^4_{52}} = \\frac{76145}{270725} = 0.281263 $"
   ]
  },
  {
   "cell_type": "code",
   "execution_count": 82,
   "metadata": {},
   "outputs": [
    {
     "name": "stdout",
     "output_type": "stream",
     "text": [
      "P(A) = 0.2812632745405855\n"
     ]
    }
   ],
   "source": [
    "deck_wo_aces = deck - 4    # deck without aces\n",
    "\n",
    "comb_wo_aces = calc_combination(deck_wo_aces, n_samples)    # combinations num without aces\n",
    "aces_comb = total_comb - comb_wo_aces    # combinations num with aces\n",
    "\n",
    "proba = aces_comb / total_comb\n",
    "\n",
    "print('P(A) =', proba)"
   ]
  },
  {
   "cell_type": "markdown",
   "metadata": {},
   "source": [
    "#### 2. На входной двери подъезда установлен кодовый замок, содержащий десять кнопок с цифрами от 0 до 9. Код содержит три цифры, которые нужно нажать одновременно. Какова вероятность того, что человек, не знающий код, откроет дверь с первой попытки?"
   ]
  },
  {
   "cell_type": "markdown",
   "metadata": {},
   "source": [
    "$\\large C^3_{10} = \\frac{10!}{3!7!} = 120 $\n",
    "$$$$\n",
    "$\\large P(A) = \\frac{1}{C^3_{10}} = 0.008333... $"
   ]
  },
  {
   "cell_type": "code",
   "execution_count": 83,
   "metadata": {},
   "outputs": [
    {
     "name": "stdout",
     "output_type": "stream",
     "text": [
      "P(A) = 0.008333\n"
     ]
    }
   ],
   "source": [
    "n, k = 10, 3\n",
    "\n",
    "comb = calc_combination(n, k)\n",
    "\n",
    "print('P(A) =', round(1/comb, 6))"
   ]
  },
  {
   "cell_type": "markdown",
   "metadata": {},
   "source": [
    "#### 3. В ящике имеется 15 деталей, из которых 9 окрашены. Рабочий случайным образом извлекает 3 детали. Какова вероятность того, что все извлеченные детали окрашены?"
   ]
  },
  {
   "cell_type": "markdown",
   "metadata": {},
   "source": [
    "$\\large C^3_{9} = \\frac{9!}{3!6!} = 84 $\n",
    "\n",
    "$\\large C^3_{15} = \\frac{15!}{3!12!} = 455 $\n",
    "$$$$\n",
    "$\\large P(A) = \\frac{C^3_{9}}{C^3_{15}} = 0.184615 $"
   ]
  },
  {
   "cell_type": "code",
   "execution_count": 84,
   "metadata": {},
   "outputs": [
    {
     "name": "stdout",
     "output_type": "stream",
     "text": [
      "P(A) = 0.184615\n"
     ]
    }
   ],
   "source": [
    "colored_comb = calc_combination(9, 3)\n",
    "total_comb = calc_combination(15, 3)\n",
    "\n",
    "print('P(A) =', round(colored_comb/total_comb, 6))"
   ]
  },
  {
   "cell_type": "markdown",
   "metadata": {},
   "source": [
    "#### 4. В лотерее 100 билетов. Из них 2 выигрышных. Какова вероятность того, что 2 приобретенных билета окажутся выигрышными?"
   ]
  },
  {
   "cell_type": "markdown",
   "metadata": {},
   "source": [
    "$\\large C^2_{100} = \\frac{100!}{2!98!} = 4950 $\n",
    "$$$$\n",
    "$\\large P(A) = \\frac{1}{C^2_{100}} = 0.000202 $"
   ]
  },
  {
   "cell_type": "code",
   "execution_count": 85,
   "metadata": {},
   "outputs": [
    {
     "name": "stdout",
     "output_type": "stream",
     "text": [
      "P(A) = 0.000202\n"
     ]
    }
   ],
   "source": [
    "n, k = 100, 2\n",
    "\n",
    "win_comb = calc_combination(n, k)\n",
    "\n",
    "print('P(A) =', round(1/win_comb,6))"
   ]
  }
 ],
 "metadata": {
  "kernelspec": {
   "display_name": "Python 3",
   "language": "python",
   "name": "python3"
  },
  "language_info": {
   "codemirror_mode": {
    "name": "ipython",
    "version": 3
   },
   "file_extension": ".py",
   "mimetype": "text/x-python",
   "name": "python",
   "nbconvert_exporter": "python",
   "pygments_lexer": "ipython3",
   "version": "3.8.5"
  },
  "toc": {
   "base_numbering": 1,
   "nav_menu": {},
   "number_sections": false,
   "sideBar": true,
   "skip_h1_title": false,
   "title_cell": "Table of Contents",
   "title_sidebar": "Contents",
   "toc_cell": false,
   "toc_position": {},
   "toc_section_display": true,
   "toc_window_display": false
  }
 },
 "nbformat": 4,
 "nbformat_minor": 4
}
