{
 "cells": [
  {
   "cell_type": "code",
   "execution_count": 10,
   "metadata": {},
   "outputs": [],
   "source": [
    "from math import factorial"
   ]
  },
  {
   "cell_type": "code",
   "execution_count": 11,
   "metadata": {},
   "outputs": [],
   "source": [
    "def permutations(n):\n",
    "    return factorial(n)"
   ]
  },
  {
   "cell_type": "code",
   "execution_count": 21,
   "metadata": {},
   "outputs": [],
   "source": [
    "def placements(n, k):\n",
    "    \"\"\"\n",
    "    Количество возможных размещений k элементов из n (123!=231)\n",
    "    \"\"\"\n",
    "    return permutations(n) // factorial(n - k)"
   ]
  },
  {
   "cell_type": "code",
   "execution_count": 22,
   "metadata": {},
   "outputs": [],
   "source": [
    "def combinations(n, k):\n",
    "    \"\"\"binominal coefficient:\n",
    "    Количество возможных наборов k элементов из n (123==231)\n",
    "    \"\"\"\n",
    "    return placements(n, k) // factorial(k)"
   ]
  },
  {
   "cell_type": "markdown",
   "metadata": {},
   "source": [
    "### Задача 1.\n",
    "**_Имеется колода в 52 карты. Найти число возможностей вытянуть из неё 4 карты так, чтобы среди них был хотя бы один туз._**"
   ]
  },
  {
   "cell_type": "code",
   "execution_count": 23,
   "metadata": {},
   "outputs": [],
   "source": [
    "deck = 52\n",
    "n_samples = 4"
   ]
  },
  {
   "cell_type": "code",
   "execution_count": 57,
   "metadata": {},
   "outputs": [
    {
     "name": "stdout",
     "output_type": "stream",
     "text": [
      "Ответ: 76145\n"
     ]
    }
   ],
   "source": [
    "all_comb = combinations(deck, n_samples)\n",
    "wo_aces_comb = combinations(deck-n_samples, n_samples) # ways to get 4 cards from deck without aces\n",
    "\n",
    "print('Ответ: {}'.format(all_comb-wo_aces_comb))"
   ]
  },
  {
   "cell_type": "markdown",
   "metadata": {},
   "source": [
    "### Задачи 2-3.\n",
    "**_Из 60 вопросов, входящих в экзаменационные билеты, студент знает 50. Случайным образом студент вытягивает 3 вопроса. Какова вероятность, что все выбранные вопросы знакомы студенту? Какова вероятность что два из трёх вопросов знакомы студенту?_**"
   ]
  },
  {
   "cell_type": "code",
   "execution_count": 33,
   "metadata": {},
   "outputs": [
    {
     "name": "stdout",
     "output_type": "stream",
     "text": [
      "Вероятность, что все выбранные вопросы знакомы студенту: 0.573\n"
     ]
    }
   ],
   "source": [
    "all_questions = 60\n",
    "known = 50\n",
    "questions_cnt = 3\n",
    "\n",
    "all_comb = combinations(n=all_questions, k=questions_cnt)\n",
    "known_comb = combinations(n=known, k=questions_cnt)\n",
    "\n",
    "proba = known_comb / all_comb\n",
    "print('Вероятность, что все выбранные вопросы знакомы студенту: {:.3f}'.format(proba))"
   ]
  },
  {
   "cell_type": "code",
   "execution_count": 40,
   "metadata": {},
   "outputs": [
    {
     "name": "stdout",
     "output_type": "stream",
     "text": [
      "Вероятность, что 2/3 вопросов знакомы студенту: 0.358\n"
     ]
    }
   ],
   "source": [
    "known_questions_cnt = 2\n",
    "\n",
    "A = combinations(known, known_questions_cnt)\n",
    "B = combinations(all_questions-known, (questions_cnt-known_questions_cnt))\n",
    "# A и B - совместные события - все желаемые исходы\n",
    "proba = A*B / all_comb\n",
    "print('Вероятность, что 2/3 вопросов знакомы студенту: {:.3f}'.format(proba))"
   ]
  },
  {
   "cell_type": "markdown",
   "metadata": {},
   "source": [
    "### Задача 4.\n",
    "**_Допустим, имеется некоторая очень редкая болезнь (поражает 0.1% населения). Вы приходите к врачу, вам делают тест на эту болезнь, и тест оказывается положительным. Врач говорит вам, что этот тест верно выявляет 99% больных этой болезнью и всего лишь в 1% случаев даёт ложный положительный ответ._**\n",
    "\n",
    "**_Вопрос: какова вероятность, что вы действительно больны ей?_**\n",
    "\n",
    "**_Подсказка: используйте формулу Байеса с раскрытием знаменателя с помощью формулы полной вероятности._**"
   ]
  },
  {
   "cell_type": "code",
   "execution_count": 97,
   "metadata": {},
   "outputs": [
    {
     "name": "stdout",
     "output_type": "stream",
     "text": [
      "P(A) = 0.001\n",
      "P(B|A) = 0.99\n",
      "P(B|~A) = 0.01\n"
     ]
    }
   ],
   "source": [
    "pA = 0.1/100 # событие A = болен; P(A) = вероятность заболеть\n",
    "pBA = 99/100 # P(B|A) = вер-ть получить положительный результат и оказаться больным\n",
    "pBnotA = 1/100 # P(B|~A) = вер-ть получить положительный результат и оказаться здоровым\n",
    "\n",
    "print('P(A) = {}\\nP(B|A) = {}\\nP(B|~A) = {}'.format(pA, pBA, pBnotA))"
   ]
  },
  {
   "cell_type": "markdown",
   "metadata": {},
   "source": [
    "События (B|A) и (B|~A) образуют полную группу несовместных событий, тогда по формуле полной вероятности:"
   ]
  },
  {
   "cell_type": "code",
   "execution_count": 79,
   "metadata": {},
   "outputs": [
    {
     "name": "stdout",
     "output_type": "stream",
     "text": [
      "P(B) = 0.0110\n"
     ]
    }
   ],
   "source": [
    "# р(не болен) = р(+|болен)*р(болен) + р(+|не болен)*р(не болен)\n",
    "pB = pBA*pA + pBnotA*(1-pA) # событие B = вер-ть получить положительный результат\n",
    "print('P(B) = {:.4f}'.format(pB))"
   ]
  },
  {
   "cell_type": "markdown",
   "metadata": {},
   "source": [
    "По формуле Байеса:"
   ]
  },
  {
   "cell_type": "code",
   "execution_count": 98,
   "metadata": {},
   "outputs": [
    {
     "name": "stdout",
     "output_type": "stream",
     "text": [
      "Ответ: P(AB) = 0.0902\n"
     ]
    }
   ],
   "source": [
    "pAB = (pBA*pA) / pB\n",
    "print('Ответ: P(AB) = {:.4f}'.format(pAB))"
   ]
  }
 ],
 "metadata": {
  "kernelspec": {
   "display_name": "Python 3 (ipykernel)",
   "language": "python",
   "name": "python3"
  },
  "language_info": {
   "codemirror_mode": {
    "name": "ipython",
    "version": 3
   },
   "file_extension": ".py",
   "mimetype": "text/x-python",
   "name": "python",
   "nbconvert_exporter": "python",
   "pygments_lexer": "ipython3",
   "version": "3.10.5"
  },
  "toc": {
   "base_numbering": 1,
   "nav_menu": {},
   "number_sections": true,
   "sideBar": true,
   "skip_h1_title": false,
   "title_cell": "Table of Contents",
   "title_sidebar": "Contents",
   "toc_cell": false,
   "toc_position": {},
   "toc_section_display": true,
   "toc_window_display": false
  }
 },
 "nbformat": 4,
 "nbformat_minor": 2
}
