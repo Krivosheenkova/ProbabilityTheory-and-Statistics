{
 "cells": [
  {
   "cell_type": "markdown",
   "id": "392b6c3f",
   "metadata": {},
   "source": [
    "## Урок 3. Основы математической статистики. Количественные характеристики популяции. Графическое представление данных"
   ]
  },
  {
   "cell_type": "markdown",
   "id": "d44c5d64",
   "metadata": {},
   "source": [
    "### Задача 1\n",
    "Даны значения зарплат из выборки выпускников:\n",
    "100, 80, 75, 77, 89, 33, 45, 25, 65, 17, 30, 230, 24, 57, 55, 70, 75, 65, 84, 90, 150\n",
    " \n",
    "Используя только встроенные питоновские функции и структуры данных (т.е. без библиотек numpy, pandas и др.), посчитайте (несмещённое) среднее квадратичное отклонение для данной выборки.\n"
   ]
  },
  {
   "cell_type": "code",
   "execution_count": 4,
   "id": "3ad59344",
   "metadata": {},
   "outputs": [
    {
     "name": "stdout",
     "output_type": "stream",
     "text": [
      "47.34795214\n"
     ]
    }
   ],
   "source": [
    "salaries = [100, 80, 75, 77, 89, 33, 45, 25, 65, 17, 30, 230, 24, 57, 55, 70, 75, 65, 84, 90, 150]\n",
    "mean = sum(salaries) / len(salaries)\n",
    "std = (sum([(i - mean)**2 for i in salaries]) / (len(salaries) - 1))**0.5\n",
    "print('{:.8f}'.format(std))"
   ]
  },
  {
   "cell_type": "markdown",
   "id": "0b4f9c24",
   "metadata": {},
   "source": [
    "### Задача 2\n",
    "Найдите число выбросов в выборке из задачи 1. Для определения выбросов используйте методику как при построении “усов” в boxplot, однако, как и в задаче 1, пользоваться можно только встроенными функциями и структурами данных."
   ]
  },
  {
   "cell_type": "code",
   "execution_count": 8,
   "id": "8b331869",
   "metadata": {},
   "outputs": [
    {
     "name": "stdout",
     "output_type": "stream",
     "text": [
      "1st quantile: 45\n",
      "Median: 70\n",
      "3rd quantile: 84\n"
     ]
    }
   ],
   "source": [
    "salaries_sorted = sorted(salaries)\n",
    "l = len(salaries_sorted)\n",
    "\n",
    "Q1 = salaries_sorted[int(l//4)]\n",
    "print(\"1st quantile:\", Q1)\n",
    "\n",
    "med = salaries_sorted[l//2]\n",
    "print(\"Median:\",med)\n",
    "\n",
    "Q3 = salaries_sorted[int(l*3//4)]\n",
    "print(\"3rd quantile:\", Q3)"
   ]
  },
  {
   "cell_type": "code",
   "execution_count": 14,
   "id": "d082dffa",
   "metadata": {},
   "outputs": [
    {
     "name": "stdout",
     "output_type": "stream",
     "text": [
      "low: -13.5; high: 142.5\n",
      "Выбросы з/п: [230, 150]\n"
     ]
    }
   ],
   "source": [
    "# выборсы в выборке\n",
    "iqr = Q3 - Q1\n",
    "low_threshold = Q1 - 1.5 * iqr \n",
    "high_threshold = Q3 + 1.5 * iqr\n",
    "print('low: {}; high: {}'.format(low_threshold, high_threshold))\n",
    "  \n",
    "print('Выбросы з/п:', [salaries[i] for i in range(l) if salaries[i] < low_threshold or salaries[i] > high_threshold])"
   ]
  },
  {
   "cell_type": "code",
   "execution_count": 16,
   "id": "dbe563ae",
   "metadata": {},
   "outputs": [
    {
     "data": {
      "image/png": "[encoded data removed]",
      "text/plain": [
       "<Figure size 432x288 with 1 Axes>"
      ]
     },
     "metadata": {
      "needs_background": "light"
     },
     "output_type": "display_data"
    }
   ],
   "source": [
    "import matplotlib.pyplot as plt\n",
    "\n",
    "plt.boxplot(salaries);"
   ]
  },
  {
   "cell_type": "markdown",
   "id": "84a30300",
   "metadata": {},
   "source": [
    "Ответ: 2 выброса."
   ]
  },
  {
   "cell_type": "markdown",
   "id": "7c846018",
   "metadata": {},
   "source": [
    "### Задача 3\n",
    "В университет на факультет A поступило 100 человек, на факультет B - 90 человек и на факультет C - 45 человек. Вероятность того, что студент с факультета A сдаст первую сессию, равна 0.6. Для студента с факультета B эта вероятность равна 0.7, а для студента с факультета C - 0.8. Случайным образом выбирается студент, сдавший первую сессию. Какое событие наиболее вероятно:\n",
    "\n",
    "- студент учится на факультете A,\n",
    "- студент учится на факультете B,\n",
    "- студент учится на факультете C?\n",
    "\n",
    "Замечание: да, эта задача не на тему статистики, но тема важная, и её стоит иногда освежать в памяти.\n"
   ]
  },
  {
   "cell_type": "code",
   "execution_count": 30,
   "id": "f4d9a5e9",
   "metadata": {},
   "outputs": [
    {
     "name": "stdout",
     "output_type": "stream",
     "text": [
      "Студент учится на факультете A: 0.377\n",
      "Студент учится на факультете B: 0.396\n",
      "Студент учится на факультете C: 0.226\n"
     ]
    }
   ],
   "source": [
    "# полная вероятность сдачи сессии\n",
    "all_P = 100/(100+90+45)*0.6 + 90/(100+90+45)*0.7 + 45/(100+90+45)*0.8\n",
    "\n",
    "print('Студент учится на факультете A: {:.3f}'.format((100/(100+90+45)*0.6)/all_P))\n",
    "print('Студент учится на факультете B: {:.3f}'.format((90/(100+90+45)*0.7)/all_P))\n",
    "print('Студент учится на факультете C: {:.3f}'.format((45/(100+90+45)*0.8)/all_P))"
   ]
  }
 ],
 "metadata": {
  "kernelspec": {
   "display_name": "Python 3 (ipykernel)",
   "language": "python",
   "name": "python3"
  },
  "language_info": {
   "codemirror_mode": {
    "name": "ipython",
    "version": 3
   },
   "file_extension": ".py",
   "mimetype": "text/x-python",
   "name": "python",
   "nbconvert_exporter": "python",
   "pygments_lexer": "ipython3",
   "version": "3.9.12"
  },
  "toc": {
   "base_numbering": 1,
   "nav_menu": {},
   "number_sections": false,
   "sideBar": true,
   "skip_h1_title": false,
   "title_cell": "Table of Contents",
   "title_sidebar": "Contents",
   "toc_cell": false,
   "toc_position": {
    "height": "calc(100% - 180px)",
    "left": "10px",
    "top": "150px",
    "width": "287.443px"
   },
   "toc_section_display": true,
   "toc_window_display": false
  }
 },
 "nbformat": 4,
 "nbformat_minor": 5
}
