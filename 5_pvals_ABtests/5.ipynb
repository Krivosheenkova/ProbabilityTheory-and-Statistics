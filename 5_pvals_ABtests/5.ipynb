{
 "cells": [
  {
   "cell_type": "code",
   "execution_count": 2,
   "metadata": {},
   "outputs": [],
   "source": [
    "import numpy as np"
   ]
  },
  {
   "cell_type": "markdown",
   "metadata": {},
   "source": [
    "$Z_n = \\frac{\\mu\\mu_0\\sigma}{\\sqrt{n}}\\qquad$\n",
    "$ t_n = \\frac{\\mu_X\\mu_0\\sigma_X}{\\sqrt{n}} \\qquad $\n",
    "$ \\mu \\pm Z_{\\frac{\\alpha}{2}} \\cdot \\frac{\\sigma}{\\sqrt{n}}\\quad$ | \n",
    "$\\quad \\mu \\pm t_{\\frac{\\alpha}{2}} \\cdot \\frac{\\sigma}{\\sqrt{n}}\\qquad$"
   ]
  },
  {
   "cell_type": "markdown",
   "metadata": {},
   "source": [
    "**1.**<br>\n",
    "Известно, что генеральная совокупность распределена нормально\n",
    "со средним квадратическим отклонением, равным 16.\n",
    "Найти доверительный интервал для оценки математического ожидания a с надежностью 0.95,\n",
    "если выборочная средняя M = 80, а объем выборки n = 256."
   ]
  },
  {
   "cell_type": "code",
   "execution_count": 3,
   "metadata": {},
   "outputs": [
    {
     "name": "stdout",
     "output_type": "stream",
     "text": [
      "Доверительный интервал: [78.04, 81.96]\n"
     ]
    }
   ],
   "source": [
    "s = 16; n = 256; mu = 80; alph = 0.05; Z = 1.96\n",
    "print('Доверительный интервал:', [mu-Z*(s/np.sqrt(n)), mu+Z*(s/np.sqrt(n))])"
   ]
  },
  {
   "cell_type": "markdown",
   "metadata": {},
   "source": [
    "**2.**<br>\n",
    "В результате 10 независимых измерений некоторой величины X, выполненных с одинаковой точностью,\n",
    "получены опытные данные:\n",
    "6.9, 6.1, 6.2, 6.8, 7.5, 6.3, 6.4, 6.9, 6.7, 6.1\n",
    "Предполагая, что результаты измерений подчинены нормальному закону распределения вероятностей,\n",
    "оценить истинное значение величины X при помощи доверительного интервала, покрывающего это\n",
    "значение с доверительной вероятностью 0,95."
   ]
  },
  {
   "cell_type": "code",
   "execution_count": 4,
   "metadata": {},
   "outputs": [
    {
     "name": "stdout",
     "output_type": "stream",
     "text": [
      "Доверительный интервал: [6.267509744706053, 6.912490255293949]\n"
     ]
    }
   ],
   "source": [
    "data = np.array([6.9, 6.1, 6.2, 6.8, 7.5, 6.3, 6.4, 6.9, 6.7, 6.1])\n",
    "n=10; alph = 0.05; t = 2.2622\n",
    "mu=data.mean()\n",
    "variance = np.var(data, ddof=1)\n",
    "s = np.sqrt(variance)\n",
    "print('Доверительный интервал:', [mu-t*(s/np.sqrt(n)), mu+t*(s/np.sqrt(n))])"
   ]
  },
  {
   "cell_type": "markdown",
   "metadata": {},
   "source": [
    "Решать через тест гипотезы<br>\n",
    "**3.**<br>\n",
    "Утверждается, что шарики для подшипников, изготовленные автоматическим станком, имеют средний диаметр 17 мм.\n",
    "Используя односторонний критерий с α=0,05, проверить эту гипотезу, если в выборке из n=100 шариков средний диаметр\n",
    "оказался равным 17.5 мм, а дисперсия известна и равна 4 кв. мм."
   ]
  },
  {
   "cell_type": "code",
   "execution_count": 16,
   "metadata": {},
   "outputs": [
    {
     "name": "stdout",
     "output_type": "stream",
     "text": [
      "Гипотеза H1 верна - шарики имеют средний диаметр 17.5мм. \n"
     ]
    }
   ],
   "source": [
    "mu0 = 17; mu = 17.5; alph = 0.05; n=100; d = 4; Z = 1.65; s=d**0.5\n",
    "res = (mu-mu0)*np.sqrt(n)/s\n",
    "if res < Z:\n",
    "    print('Гипотеза H0 верна - шарики имеют средний диаметр 17мм.')\n",
    "else: \n",
    "    print('Гипотеза H1 верна - шарики имеют средний диаметр 17.5мм. ')"
   ]
  },
  {
   "cell_type": "markdown",
   "metadata": {},
   "source": [
    "**4.**<br>\n",
    "Продавец утверждает, что средний вес пачки печенья составляет 200 г.\n",
    "Из партии извлечена выборка из 10 пачек. Вес каждой пачки составляет:\n",
    "202, 203, 199, 197, 195, 201, 200, 204, 194, 190.\n",
    "Известно, что их веса распределены нормально.\n",
    "Верно ли утверждение продавца, если учитывать, что доверительная вероятность равна 99%?"
   ]
  },
  {
   "cell_type": "code",
   "execution_count": 15,
   "metadata": {},
   "outputs": [
    {
     "name": "stdout",
     "output_type": "stream",
     "text": [
      "Гипотеза H_0 верна - средний вес пачки составляет 200г\n"
     ]
    }
   ],
   "source": [
    "# нулевая гипотеза - продавец прав, mu=m0\n",
    "# альтернативная гипотеза - продавец не прав, mu!=m0\n",
    "\n",
    "data = np.array([202, 203, 199, 197, 195, 201, 200, 204, 194, 190])\n",
    "mu0=200; n=10; alph = 0.01; t = 3.25\n",
    "mu = data.mean()\n",
    "s = np.sqrt(data.var(ddof=1))\n",
    "v = ((mu - mu0)*np.sqrt(n))/s\n",
    "\n",
    "print('Гипотеза H_0 верна - средний вес пачки составляет 200г' if -t < v < t else 'Гипотеза H_0 не верна.')"
   ]
  }
 ],
 "metadata": {
  "kernelspec": {
   "display_name": "Python 3",
   "language": "python",
   "name": "python3"
  },
  "language_info": {
   "codemirror_mode": {
    "name": "ipython",
    "version": 3
   },
   "file_extension": ".py",
   "mimetype": "text/x-python",
   "name": "python",
   "nbconvert_exporter": "python",
   "pygments_lexer": "ipython3",
   "version": "3.8.5"
  },
  "toc": {
   "base_numbering": 1,
   "nav_menu": {},
   "number_sections": true,
   "sideBar": true,
   "skip_h1_title": false,
   "title_cell": "Table of Contents",
   "title_sidebar": "Contents",
   "toc_cell": false,
   "toc_position": {},
   "toc_section_display": true,
   "toc_window_display": false
  }
 },
 "nbformat": 4,
 "nbformat_minor": 4
}
