{
 "cells": [
  {
   "cell_type": "markdown",
   "id": "4861b596",
   "metadata": {},
   "source": [
    "## Урок 5:\n",
    "\n",
    "## Проверка статистических гипотез. P-значения. Доверительные интервалы"
   ]
  },
  {
   "cell_type": "code",
   "execution_count": 2,
   "id": "ad9e0353",
   "metadata": {},
   "outputs": [],
   "source": [
    "import numpy as np"
   ]
  },
  {
   "cell_type": "markdown",
   "id": "d69f237c",
   "metadata": {},
   "source": [
    "В поле ответа впишите одно число. Нецелые числа следует округлить до 8 знаков после запятой.\n",
    "\n",
    "__Задача 1__\n",
    "\n",
    "Известно, что генеральная совокупность распределена нормально с известным средним квадратическим отклонением 16. Найти ширину доверительного интервала для оценки математического ожидания `mu` с надёжностью 0.95, если выборочное среднее равно 80, а объём выборки равен 256."
   ]
  },
  {
   "cell_type": "code",
   "execution_count": 5,
   "id": "5df75bee",
   "metadata": {},
   "outputs": [
    {
     "name": "stdout",
     "output_type": "stream",
     "text": [
      "Доверительный интервал: [78.04, 81.96]\n",
      "Доверительный интервал: [3.9199999999999875]\n"
     ]
    }
   ],
   "source": [
    "s = 16; n = 256; mu = 80; Z = 1.96\n",
    "print('Доверительный интервал:', [mu-Z*(s/np.sqrt(n)), mu+Z*(s/np.sqrt(n))])\n",
    "print('Доверительный интервал:', [(mu+Z*(s/np.sqrt(n)))-(mu-Z*(s/np.sqrt(n)))])"
   ]
  },
  {
   "cell_type": "markdown",
   "id": "51d68e46",
   "metadata": {},
   "source": [
    "__Задача 2__\n",
    "\n",
    "Продавец утверждает, что средний вес пачки печенья составляет 200 г. Из партии извлечена выборка из 10 пачек. Вес каждой пачки составляет:\n",
    "```\n",
    "202, 203, 199, 197, 195, 201, 200, 204, 194, 190\n",
    "```\n",
    "Известно, что их веса распределены нормально. Верно ли утверждение продавца, если учитывать, что уровень значимости равен 1%? Найдите P-значение для данного теста и укажите его в качестве ответа."
   ]
  },
  {
   "cell_type": "code",
   "execution_count": 8,
   "id": "d0216cfd",
   "metadata": {},
   "outputs": [],
   "source": [
    "from scipy import stats"
   ]
  },
  {
   "cell_type": "code",
   "execution_count": 10,
   "id": "d198625c",
   "metadata": {},
   "outputs": [
    {
     "name": "stdout",
     "output_type": "stream",
     "text": [
      "mean = 198.5; std = 4.453463071962462\n",
      "T-value = -1.0651074037450896\n"
     ]
    }
   ],
   "source": [
    "weights = np.array([202, 203, 199, 197, 195, 201, 200, 204, 194, 190])\n",
    "n = 10\n",
    "\n",
    "mean = weights.mean()\n",
    "std = weights.std(ddof=1)\n",
    "print('mean = {}; std = {}'.format(mean, std))\n",
    "\n",
    "T = (mean-200)/(std/np.sqrt(n))\n",
    "print('T-value = {}'.format(T))"
   ]
  },
  {
   "cell_type": "code",
   "execution_count": 16,
   "id": "79db06e6",
   "metadata": {},
   "outputs": [
    {
     "name": "stdout",
     "output_type": "stream",
     "text": [
      "[-3.24983554401537, 3.2498355440153697]\n",
      "Ttest_1sampResult(statistic=-1.0651074037450896, pvalue=0.31456660352472854)\n"
     ]
    }
   ],
   "source": [
    "alpha = 0.01\n",
    "\n",
    "t1 = stats.t.ppf(alpha / 2, \n",
    "                 df=(n-1))\n",
    "\n",
    "t2 = stats.t.ppf(1 - alpha / 2, \n",
    "                 df=(n-1))\n",
    "print([t1, t2])\n",
    "\n",
    "print(stats.ttest_1samp(weights, 200))"
   ]
  },
  {
   "cell_type": "code",
   "execution_count": null,
   "id": "fa55b8db",
   "metadata": {},
   "outputs": [],
   "source": [
    "# p-value = 0.31456660352472854 > alpha >> продавец прав, средний вес пачки = 200г"
   ]
  },
  {
   "cell_type": "markdown",
   "id": "ddad941a",
   "metadata": {},
   "source": [
    "__Задача 3__\n",
    "\n",
    "Дана выборка диаметров подшипников из примера 1 с занятия 5:\n",
    "```\n",
    "samples = [0.6603, 0.9466, 0.5968, 1.3792, 1.5481, 0.7515, 1.0681, 1.1134,\n",
    "           1.2088, 1.701 , 1.0282, 1.3579, 1.0191, 1.1784, 1.1168, 1.1372,\n",
    "           0.7273, 1.3958, 0.8665, 1.5112, 1.161 , 1.0232, 1.0865, 1.02  ]\n",
    "```\n",
    "Предполагая, что диаметры подшипников распределены нормально, проверьте гипотезу о том, что дисперсия случайной величины равна `0.0625` при уровне значимости `alpha = 0.05`. Что для этого нужно знать:\n",
    "1. Альтернативная гипотеза двухсторонняя.\n",
    "2. Статистика для теста: `H = (n - 1) * sample_variance / variance`, где `n` - число элементов в выборке, `sample_variance` - несмещённая оценка дисперсии, `variance` - утверждаемая нулевой гипотезой дисперсия.\n",
    "3. Эта статистика в предположении верности нулевой гипотезы имеет распределение хи-квадрат с параметром `df = n - 1`. Её квантили можно найти с помощью функции `scipy.stats.chi2.ppf`.\n",
    "\n",
    "В качестве ответа запишите 1, если нулевая гипотеза верна, и 0 иначе.\n",
    "\n",
    "__Ответ__: 1"
   ]
  }
 ],
 "metadata": {
  "kernelspec": {
   "display_name": "Python 3 (ipykernel)",
   "language": "python",
   "name": "python3"
  },
  "language_info": {
   "codemirror_mode": {
    "name": "ipython",
    "version": 3
   },
   "file_extension": ".py",
   "mimetype": "text/x-python",
   "name": "python",
   "nbconvert_exporter": "python",
   "pygments_lexer": "ipython3",
   "version": "3.9.12"
  },
  "toc": {
   "base_numbering": 1,
   "nav_menu": {},
   "number_sections": false,
   "sideBar": true,
   "skip_h1_title": false,
   "title_cell": "Table of Contents",
   "title_sidebar": "Contents",
   "toc_cell": false,
   "toc_position": {},
   "toc_section_display": true,
   "toc_window_display": false
  }
 },
 "nbformat": 4,
 "nbformat_minor": 5
}
