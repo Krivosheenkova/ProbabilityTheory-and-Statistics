{
 "cells": [
  {
   "cell_type": "code",
   "execution_count": 2,
   "id": "cb7bc544",
   "metadata": {},
   "outputs": [],
   "source": [
    "import numpy as np\n",
    "from tabulate import tabulate"
   ]
  },
  {
   "cell_type": "code",
   "execution_count": 3,
   "id": "7358d392",
   "metadata": {},
   "outputs": [],
   "source": [
    "from math import factorial, e"
   ]
  },
  {
   "cell_type": "code",
   "execution_count": 4,
   "id": "9ff617c1",
   "metadata": {},
   "outputs": [],
   "source": [
    "def combinations(n, k):\n",
    "    \"\"\"binominal coefficient:\n",
    "    Количество возможных наборов k элементов из n (123==231)\n",
    "    \"\"\"\n",
    "    assert n >= k, f\"You can't choose {k} elements from {n}\"\n",
    "    return factorial(n) // (factorial(n - k) * factorial(k))"
   ]
  },
  {
   "cell_type": "markdown",
   "id": "89675e1d",
   "metadata": {},
   "source": [
    "$\\mathbf{\\text{Распределение Бернулли (Биномиальное распределение)}}$<br>\n",
    "***\n",
    "$\\large P_n(k) = C^k_n \\cdot p^k \\cdot q^{n - k} $"
   ]
  },
  {
   "cell_type": "code",
   "execution_count": 5,
   "id": "31f7cc9f",
   "metadata": {},
   "outputs": [],
   "source": [
    "def bernoulli(n, k, p):\n",
    "    q = 1 - p\n",
    "    return combinations(n, k) * (p**k) * (q**(n-k))"
   ]
  },
  {
   "cell_type": "markdown",
   "id": "e740d4df",
   "metadata": {},
   "source": [
    "$\\mathbf{\\text{Распределение Пуассона}}$<br>\n",
    "***\n",
    "$\\large P_k \\approx \\frac{\\lambda^k}{k!}e^{-\\lambda}  $"
   ]
  },
  {
   "cell_type": "code",
   "execution_count": 6,
   "id": "5bb98743",
   "metadata": {},
   "outputs": [],
   "source": [
    "def poisson(k, p=None, n=None, l=None):\n",
    "    if not l:\n",
    "        l = n*p\n",
    "    return (l**k / factorial(k)) * e**(-l)"
   ]
  },
  {
   "cell_type": "code",
   "execution_count": 7,
   "id": "73689df3",
   "metadata": {},
   "outputs": [],
   "source": [
    "def expected_value(x, p):\n",
    "    \"\"\"\n",
    "    The expected value of a discrete random variable is \n",
    "    the probability-weighted average \n",
    "    of all its possible values.\n",
    "    \"\"\"\n",
    "    return np.array([(xx*pp) for xx, pp in zip(x, p)]).sum()"
   ]
  },
  {
   "cell_type": "code",
   "execution_count": 8,
   "id": "410aed6f",
   "metadata": {},
   "outputs": [],
   "source": [
    "def print_distribution_law(px):\n",
    "    print(tabulate(px, headers='keys', tablefmt=\"simple_outline\"))"
   ]
  },
  {
   "cell_type": "code",
   "execution_count": 9,
   "id": "c4da0ef1",
   "metadata": {},
   "outputs": [],
   "source": [
    "def variance(X, p):\n",
    "    expected = expected_value(X, p)\n",
    "    x = [(x-expected)**2 for x in X]\n",
    "    return expected_value(x, p)"
   ]
  },
  {
   "cell_type": "markdown",
   "id": "0fb21973",
   "metadata": {},
   "source": [
    "### Задачи 1 и 2\n",
    "Контрольная работа состоит из пяти вопросов. На каждый вопрос приведено четыре варианта ответа, один из которых правильный. Случайная величина X задаёт число правильных ответов при простом угадывании. Найдите математическое ожидание данной случайной величины. Найдите дисперсию случайной величины X.\n",
    "\n",
    "Подсказка: постройте закон распределения случайной величины X."
   ]
  },
  {
   "cell_type": "code",
   "execution_count": 10,
   "id": "24a77e3b",
   "metadata": {},
   "outputs": [
    {
     "name": "stdout",
     "output_type": "stream",
     "text": [
      "       0         1         2          3          4            5\n",
      "--------  --------  --------  ---------  ---------  -----------\n",
      "0.237305  0.395508  0.263672  0.0878906  0.0146484  0.000976562\n"
     ]
    }
   ],
   "source": [
    "n_questions = 5\n",
    "guessing_proba = 1/4\n",
    "\n",
    "\n",
    "# X - дискретная величина, равная кол-ву правильных ответов в контрольной работе\n",
    "X = list(range(0, n_questions+1)) \n",
    "probas = [bernoulli(n=n_questions, k=k, p=guessing_proba) for k in X]\n",
    "    \n",
    "print_distribution_law({k: [p] for k, p in zip(X, probas)})"
   ]
  },
  {
   "cell_type": "code",
   "execution_count": 11,
   "id": "cfc7f3ae",
   "metadata": {},
   "outputs": [
    {
     "name": "stdout",
     "output_type": "stream",
     "text": [
      "Математическое ожидание\n",
      "----------\n",
      "1.25\n"
     ]
    }
   ],
   "source": [
    "math_expect = expected_value(x=X, p=probas)\n",
    "print('Математическое ожидание\\n{:-^10}\\n{}'.format('', math_expect))"
   ]
  },
  {
   "cell_type": "code",
   "execution_count": 12,
   "id": "a5ef43ea",
   "metadata": {},
   "outputs": [
    {
     "data": {
      "text/plain": [
       "True"
      ]
     },
     "execution_count": 12,
     "metadata": {},
     "output_type": "execute_result"
    }
   ],
   "source": [
    "# due to bernoulli distribution:\n",
    "n_questions * guessing_proba == math_expect"
   ]
  },
  {
   "cell_type": "code",
   "execution_count": 13,
   "id": "ed8a6981",
   "metadata": {},
   "outputs": [
    {
     "name": "stdout",
     "output_type": "stream",
     "text": [
      "Дисперсия\n",
      "----------\n",
      "0.9375\n"
     ]
    }
   ],
   "source": [
    "var = variance(X=X, p=probas)\n",
    "print('Дисперсия\\n{:-^10}\\n{}'.format('', var))"
   ]
  },
  {
   "cell_type": "code",
   "execution_count": 14,
   "id": "cb6fc62d",
   "metadata": {},
   "outputs": [
    {
     "data": {
      "text/plain": [
       "True"
      ]
     },
     "execution_count": 14,
     "metadata": {},
     "output_type": "execute_result"
    }
   ],
   "source": [
    "(n_questions * guessing_proba * (1 - guessing_proba)) == var"
   ]
  },
  {
   "cell_type": "markdown",
   "id": "f6e865f9",
   "metadata": {},
   "source": [
    "### Задача 3\n",
    "Пользователь получает в среднем 10 писем со спамом на свой почтовый ящик за сутки. Найти число N, такое, что с вероятностью 0.95 пользователь получит не более N писем со спамом за текущий день."
   ]
  },
  {
   "cell_type": "code",
   "execution_count": 18,
   "id": "a3c310ff",
   "metadata": {},
   "outputs": [
    {
     "data": {
      "text/plain": [
       "0.9512141967662591"
      ]
     },
     "execution_count": 18,
     "metadata": {},
     "output_type": "execute_result"
    }
   ],
   "source": [
    "expected = 10 # матожидание\n",
    "spam_proba, N = 0, 0\n",
    "\n",
    "while spam_proba <= 0.95:\n",
    "    N += 1\n",
    "    spam_proba += poisson(k=N, l=expected)\n",
    "spam_proba"
   ]
  },
  {
   "cell_type": "code",
   "execution_count": 16,
   "id": "b85a30f6",
   "metadata": {},
   "outputs": [
    {
     "name": "stdout",
     "output_type": "stream",
     "text": [
      "С вероятностью 0.95 пользователь получит не более 15 писем со спамом за текущий день\n"
     ]
    }
   ],
   "source": [
    "print('С вероятностью 0.95 пользователь получит не более {} писем со спамом за текущий день'.format(N))"
   ]
  },
  {
   "cell_type": "markdown",
   "id": "46a9ee88",
   "metadata": {},
   "source": [
    "### Задача 4\n",
    "Производятся выстрелы по мишени. Вероятность попадания в мишень при одном выстреле равна 0.01. Сколько выстрелов нужно сделать чтобы быть уверенным с вероятностью 0.9, что хотя бы 6 раз будет совершено попадание?\n",
    "\n",
    "Подсказка: 1) \"Вероятность попасть k раз при n выстрелах\" - на какое распределение это похоже? 2) А если нам нужна вероятность P(X >= k), а не P(X = k)? 3) Здесь предстоит немножко покодить."
   ]
  },
  {
   "cell_type": "code",
   "execution_count": 17,
   "id": "9a445766",
   "metadata": {},
   "outputs": [
    {
     "name": "stdout",
     "output_type": "stream",
     "text": [
      "Нужно сделать 927 выстрелов, чтобы быть уверенным с вероятностью 0.9, что хотя бы 6 раз стрелок попадет в мишень.\n"
     ]
    }
   ],
   "source": [
    "hit_target_proba = 0.01\n",
    "N = 6\n",
    "\n",
    "hits_proba = 0\n",
    "\n",
    "while hits_proba <= 0.9:\n",
    "    probas = []\n",
    "    for k in range(0, 6):\n",
    "        probas.append(\n",
    "            bernoulli(n=N, k=k, p=hit_target_proba)\n",
    "                     )\n",
    "    hits_proba = 1-sum(probas)\n",
    "    N += 1\n",
    "    \n",
    "print(\"Нужно сделать {} выстрелов, чтобы быть уверенным с вероятностью 0.9, что хотя бы 6 раз стрелок попадет в мишень.\" \\\n",
    "     .format(N))\n",
    "    "
   ]
  }
 ],
 "metadata": {
  "kernelspec": {
   "display_name": "Python 3 (ipykernel)",
   "language": "python",
   "name": "python3"
  },
  "language_info": {
   "codemirror_mode": {
    "name": "ipython",
    "version": 3
   },
   "file_extension": ".py",
   "mimetype": "text/x-python",
   "name": "python",
   "nbconvert_exporter": "python",
   "pygments_lexer": "ipython3",
   "version": "3.9.12"
  },
  "toc": {
   "base_numbering": 1,
   "nav_menu": {},
   "number_sections": true,
   "sideBar": true,
   "skip_h1_title": false,
   "title_cell": "Table of Contents",
   "title_sidebar": "Contents",
   "toc_cell": false,
   "toc_position": {},
   "toc_section_display": true,
   "toc_window_display": false
  }
 },
 "nbformat": 4,
 "nbformat_minor": 5
}
