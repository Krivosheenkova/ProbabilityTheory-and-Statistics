{
 "cells": [
  {
   "cell_type": "code",
   "execution_count": 1,
   "id": "ec1bc28e",
   "metadata": {},
   "outputs": [
    {
     "name": "stderr",
     "output_type": "stream",
     "text": [
      "<frozen importlib._bootstrap>:228: RuntimeWarning: scipy._lib.messagestream.MessageStream size changed, may indicate binary incompatibility. Expected 56 from C header, got 64 from PyObject\n"
     ]
    }
   ],
   "source": [
    "import numpy as np\n",
    "from typing import List\n",
    "from sklearn.metrics import r2_score as r2_sklean\n",
    "from itertools import combinations"
   ]
  },
  {
   "cell_type": "markdown",
   "id": "7514ffeb",
   "metadata": {},
   "source": [
    "### Задача 1\n",
    "\n",
    "Дана матрица объект-признак X\n",
    "и значения целевой переменной y.\n",
    "\n",
    "Подберите два признака (из четырёх) так, чтобы уровень линейной зависимости целевой переменной от значений этих признаков был максимальным. Другими словами, модель линейной регрессии на этих признаках должна давать наилучший результат. В качестве ответа запишите значение коэффициента детерминации для модели на этих признаках.\n",
    "\n",
    "Ответ: 0.76342462"
   ]
  },
  {
   "cell_type": "code",
   "execution_count": 24,
   "id": "dbd77fff",
   "metadata": {},
   "outputs": [
    {
     "data": {
      "text/plain": [
       "((10, 4), (10,))"
      ]
     },
     "execution_count": 24,
     "metadata": {},
     "output_type": "execute_result"
    }
   ],
   "source": [
    "X = [[ 1.22401313,  2.30868478,  3.03636353,  2.69287214],\n",
    "     [-0.18757272,  1.30337355,  5.12093014,  3.46363202],\n",
    "     [-0.81094525,  1.82463398,  5.79686488,  1.86159445],\n",
    "     [ 0.75129018,  2.67392052,  3.65529809,  1.66746094],\n",
    "     [ 0.00972362,  1.97367255,  2.50594319,  1.69755173],\n",
    "     [-0.62972637,  0.77750764,  2.84124027,  4.54410559],\n",
    "     [ 2.29536229,  1.81206697,  1.95026215,  1.51874636],\n",
    "     [ 0.0920418 ,  2.26971361,  7.47708735,  2.61081203],\n",
    "     [ 2.39252799,  3.17563985,  3.61420599,  5.10773362],\n",
    "     [ 0.54983815,  2.87988651,  1.65752765,  1.59635987]]\n",
    "\n",
    "y = [ 9.26193358,  9.700363  ,  8.67214805,  8.74796974,  6.18689108,\n",
    "      7.53312713,  7.57643777, 12.44965478, 14.29010746,  6.68361218]\n",
    "\n",
    "X, y = np.array(X), np.array(y)\n",
    "X.shape, y.shape"
   ]
  },
  {
   "cell_type": "markdown",
   "id": "3ef30f23",
   "metadata": {},
   "source": [
    "$${\\beta} = \\left( X^\\top X \\right)^{-1} X^\\top Y$$"
   ]
  },
  {
   "cell_type": "code",
   "execution_count": 23,
   "id": "f8ec9c06",
   "metadata": {},
   "outputs": [],
   "source": [
    "def features_num(X) -> int:\n",
    "    if len(X.shape) < 1:\n",
    "        n_features = 1\n",
    "    else:\n",
    "        n_features: int = X.shape[1]\n",
    "    return n_features\n",
    "\n",
    "##### estimator\n",
    "def lr_predict(X, y) -> list:\n",
    "    \"\"\"Returns linear approximated list of values\"\"\"\n",
    "    X, y = np.array(X), np.array(y)\n",
    "    n_feats = features_num(X)\n",
    "    if n_feats == 1:\n",
    "        b0, b1 = get_lr_coefficients(X, y)\n",
    "        preds: list = b0 + b1 * X\n",
    "    elif n_feats > 1:\n",
    "        b, X = get_lr_coefficients(X, y)\n",
    "        preds = X.dot(b)\n",
    "    return preds\n",
    "\n",
    "\n",
    "def get_lr_coefficients(X, y) -> (float, float) or list:\n",
    "    \"\"\"Returns linear regression coefficients\"\"\"\n",
    "    X, y = np.array(X), np.array(y)\n",
    "    n_features = features_num(X)\n",
    "            \n",
    "    if n_features == 1: # simple linear regression\n",
    "        b1: float = covariance(X, y, unbiased=True)[0, 1] / variance(X)  \n",
    "        b0: float = mean(y) - b1 * mean(X)\n",
    "        return b0, b1\n",
    "    \n",
    "    elif n_features > 1: # least squares method \n",
    "        ones = np.ones((X.shape[0], 1))\n",
    "        X = np.hstack((ones, X))\n",
    "        XTX = X.T.dot(X)\n",
    "        XTX_inv = np.linalg.inv(XTX)\n",
    "        b = XTX_inv.dot(X.T).dot(y)\n",
    "        return b, X\n",
    "    \n",
    "##### statistics\n",
    "def covariance(X: list, y: list, unbiased: bool = True) -> float:\n",
    "    \"\"\"Выборочная ковариация\"\"\"\n",
    "    mean_X: float = mean(X)\n",
    "    mean_y: float = mean(y)\n",
    "    l: list = list(\n",
    "        map(lambda x, y: (x - mean_X) * (y - mean_y), X, y)\n",
    "    )\n",
    "    return sum(l) / (len(l) - int(unbiased))\n",
    "\n",
    "\n",
    "def variance(X: list, unbiased: bool = True) -> float:\n",
    "    mean_X: float = mean(X)\n",
    "    deviations: list = [(x - mean_X)**2 for x in X]\n",
    "    return sum(deviations) / (len(X) - int(unbiased))\n",
    "\n",
    "\n",
    "def mean(l: list) -> float:\n",
    "    return sum(l) / len(l)\n",
    "\n",
    "##### metric\n",
    "def r2_score(y_true: list, y_pred: list) -> float:\n",
    "    \"\"\"Коэффициент детерминации\"\"\"\n",
    "    y_true = np.array(y_true)\n",
    "    y_pred = np.array(y_pred)\n",
    "    true_mean = mean(y_true)\n",
    "    err1 = ((y_true - y_pred)**2).sum()\n",
    "    err2 = ((y_true - true_mean)**2).sum()\n",
    "    return 1 - err1 / err2"
   ]
  },
  {
   "cell_type": "code",
   "execution_count": 4,
   "id": "83cdfab7",
   "metadata": {},
   "outputs": [
    {
     "name": "stdout",
     "output_type": "stream",
     "text": [
      "best r2_score: 0.7634246238793152\n",
      "pair of features: (0, 2)\n"
     ]
    }
   ],
   "source": [
    "features_ids: List[tuple] = list(combinations(range(0, X.shape[1]), r=2))\n",
    "\n",
    "best_r2 = -1\n",
    "for feats_pair in features_ids:\n",
    "    preds = lr_predict(X[:, feats_pair], y)\n",
    "    r2 = r2_score(y_true=y, y_pred=preds)\n",
    "    if r2 > best_r2:\n",
    "        best_r2 = r2\n",
    "        best_pair = feats_pair\n",
    "\n",
    "print('best r2_score: {}\\npair of features: {}'\n",
    "      .format(best_r2, best_pair))"
   ]
  },
  {
   "cell_type": "markdown",
   "id": "b96f488c",
   "metadata": {},
   "source": [
    "### Задача 2\n",
    "\n",
    "Является ли значимым уравнение регрессии, полученное в предыдущей задаче? В качестве ответа запишите 1, если является, и 0 иначе.\n",
    "\n",
    "Ответ: 1"
   ]
  },
  {
   "cell_type": "code",
   "execution_count": 25,
   "id": "72fa9b9b",
   "metadata": {},
   "outputs": [],
   "source": [
    "from scipy import stats\n",
    "import matplotlib.pyplot as plt"
   ]
  },
  {
   "cell_type": "code",
   "execution_count": 51,
   "id": "ace8b9ab",
   "metadata": {},
   "outputs": [
    {
     "name": "stdout",
     "output_type": "stream",
     "text": [
      "Критическая область: (4.73741412777588, inf)\n"
     ]
    }
   ],
   "source": [
    "X_2 = X[:, best_pair]\n",
    "n, m = X_2.shape[0], X_2.shape[1]\n",
    "k1, k2 = m, n - m - 1\n",
    "alpha = 0.05\n",
    "\n",
    "# квантиль порядка (1-alpha) для распределения Фишера с параметрами k1, k2\n",
    "t = stats.f.ppf(1 - alpha, k1, k2)\n",
    "print(f'Критическая область: {(t, np.inf)}')\n",
    "\n",
    "def plot_fisher(k1: int, k2: int, t: float, f_stat: float = None):\n",
    "    ox = np.linspace(0, 7, 500)\n",
    "    oy = stats.f.pdf(ox, k1, k2)\n",
    "\n",
    "    ox_right = np.linspace(t, 7, 100)\n",
    "    oy_right = stats.f.pdf(ox_right, k1, k2)\n",
    "\n",
    "    plt.plot(ox, oy)\n",
    "    plt.fill_between(ox_right, oy_right, alpha=0.5)\n",
    "    plt.grid(True)\n",
    "    if f_stat:\n",
    "        plt.scatter(x=f_stat, y=0, marker='o', color='r')\n",
    "\n",
    "    plt.show()"
   ]
  },
  {
   "cell_type": "code",
   "execution_count": 55,
   "id": "4d7c1352",
   "metadata": {},
   "outputs": [
    {
     "name": "stdout",
     "output_type": "stream",
     "text": [
      "F = 5.77009860\n"
     ]
    },
    {
     "data": {
      "image/png": "[encoded data removed]",
      "text/plain": [
       "<Figure size 432x288 with 1 Axes>"
      ]
     },
     "metadata": {
      "needs_background": "light"
     },
     "output_type": "display_data"
    }
   ],
   "source": [
    "F = (r2 / k1) / ((1 - r2) / k2)\n",
    "print('F = {:.8f}'.format(F))\n",
    "plot_fisher(k1, k2, t, f_stat=F)"
   ]
  },
  {
   "cell_type": "code",
   "execution_count": 56,
   "id": "4c3f0b98",
   "metadata": {},
   "outputs": [
    {
     "name": "stdout",
     "output_type": "stream",
     "text": [
      "Ответ: 1\n"
     ]
    }
   ],
   "source": [
    "print('Ответ: {}'.format(int(F > t)))"
   ]
  },
  {
   "cell_type": "markdown",
   "id": "381e3f15",
   "metadata": {},
   "source": [
    "### Задача 3\n",
    "\n",
    "Для проведения A/B-тестирования сайта интернет-магазина были получены следующие данные: страница A была посещена 2509 раз, из них 77 закончились совершением покупки, страница B была посещена 1465 раз, 60 из них закончились совершением покупки. Является ли значимым отличие конверсии на страницах A и B? В качестве ответа запишите 1, если является, и 0 иначе.\n",
    "\n",
    "_Подсказка_. Реализуйте двухвыборочный t-тест. В качестве выборок здесь можно взять наборы меток совершения покупки (0 или 1) каждым посетителем.\n",
    "\n",
    "Ответ: 0"
   ]
  },
  {
   "cell_type": "code",
   "execution_count": 88,
   "id": "a0538252",
   "metadata": {},
   "outputs": [
    {
     "name": "stdout",
     "output_type": "stream",
     "text": [
      "t-statistic = -1.6504551408398205\tp-value = 0.09896479217925895\n",
      "гипотеза верна\n"
     ]
    }
   ],
   "source": [
    "A_views = 2509\n",
    "A_buy = 77\n",
    "\n",
    "B_views = 1465\n",
    "B_buy = 60\n",
    "\n",
    "a = np.append(np.zeros((A_views - A_buy, 1)), np.ones((A_buy, 1)))\n",
    "np.random.shuffle(a)\n",
    "b = np.append(np.zeros((B_views - B_buy, 1)), np.ones((B_buy, 1)))\n",
    "np.random.shuffle(b)\n",
    "\n",
    "t_test_result = stats.ttest_ind(a, b, equal_var=False)\n",
    "\n",
    "print('t-statistic = {}\\tp-value = {}'.format(*t_test_result))\n",
    "\n",
    "print(\"гипотеза верна\" if t_test_result.pvalue > alpha else 'гипотеза не верна')"
   ]
  }
 ],
 "metadata": {
  "kernelspec": {
   "display_name": "Python 3.9.12 ('base')",
   "language": "python",
   "name": "python3"
  },
  "language_info": {
   "codemirror_mode": {
    "name": "ipython",
    "version": 3
   },
   "file_extension": ".py",
   "mimetype": "text/x-python",
   "name": "python",
   "nbconvert_exporter": "python",
   "pygments_lexer": "ipython3",
   "version": "3.9.12"
  },
  "toc": {
   "base_numbering": 1,
   "nav_menu": {},
   "number_sections": true,
   "sideBar": true,
   "skip_h1_title": false,
   "title_cell": "Table of Contents",
   "title_sidebar": "Contents",
   "toc_cell": false,
   "toc_position": {},
   "toc_section_display": true,
   "toc_window_display": false
  },
  "vscode": {
   "interpreter": {
    "hash": "090ad81762ad62c6a5ce116f900fa623eaf7b1cd6cd0ef3f9318ace1340958a3"
   }
  }
 },
 "nbformat": 4,
 "nbformat_minor": 5
}
