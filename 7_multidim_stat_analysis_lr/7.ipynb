{
 "cells": [
  {
   "cell_type": "markdown",
   "metadata": {},
   "source": [
    "**1**<br>Даны значения величины заработной платы заемщиков банка (zp) и значения их поведенческого кредитного скоринга (ks): zp = [35, 45, 190, 200, 40, 70, 54, 150, 120, 110], ks = [401, 574, 874, 919, 459, 739, 653, 902, 746, 832]. Используя математические операции, посчитать коэффициенты линейной регрессии, приняв за X заработную плату (то есть, zp - признак), а за y - значения скорингового балла (то есть, ks - целевая переменная). Произвести расчет как с использованием intercept, так и без."
   ]
  },
  {
   "cell_type": "code",
   "execution_count": 160,
   "metadata": {},
   "outputs": [],
   "source": [
    "import numpy as np\n",
    "import matplotlib.pyplot as plt\n",
    "X = np.array([35, 45, 190, 200, 40, 70, 54, 150, 120, 110])\n",
    "y = np.array([401, 574, 874, 919, 459, 739, 653, 902, 746, 832])\n",
    "n = len(X)"
   ]
  },
  {
   "cell_type": "markdown",
   "metadata": {},
   "source": [
    "$\\large b = \\frac{n \\sum_{i=1}^n{x_iy_i} - (\\sum_{i=1}^n{x_i})(\\sum_{i=1}^n{y_i})}{n\\sum_{i=1}^n{x_i^2} - (\\sum_{i=1}^n{x_i})^2} \\qquad a = \\bar{y} - b\\bar{x}$"
   ]
  },
  {
   "cell_type": "code",
   "execution_count": 112,
   "metadata": {},
   "outputs": [
    {
     "data": {
      "text/plain": [
       "2.620538882402765"
      ]
     },
     "execution_count": 112,
     "metadata": {},
     "output_type": "execute_result"
    }
   ],
   "source": [
    "b = (np.mean(X * y) - np.mean(X) * np.mean(y)) / (np.mean(X**2) - np.mean(X) ** 2)\n",
    "b"
   ]
  },
  {
   "cell_type": "code",
   "execution_count": 113,
   "metadata": {},
   "outputs": [
    {
     "data": {
      "text/plain": [
       "444.1773573243596"
      ]
     },
     "execution_count": 113,
     "metadata": {},
     "output_type": "execute_result"
    }
   ],
   "source": [
    "a = np.mean(y) - b * np.mean(X)\n",
    "a"
   ]
  },
  {
   "cell_type": "markdown",
   "metadata": {},
   "source": [
    "$\\begin{pmatrix}\n",
    "y_1 \\\\\n",
    "y_2 \\\\\n",
    "... \\\\\n",
    "y_n\n",
    "\\end{pmatrix} = \n",
    "\\begin{pmatrix}\n",
    "x_1\\\\\n",
    "x_2\\\\\n",
    "...\\\\\n",
    "x_n\\\\\n",
    "\\end{pmatrix}\\begin{pmatrix}\n",
    " \\\\\n",
    "\\beta_1 \\\\\n",
    "\\\\\n",
    "\\end{pmatrix}$"
   ]
  },
  {
   "cell_type": "code",
   "execution_count": 175,
   "metadata": {},
   "outputs": [
    {
     "data": {
      "text/plain": [
       "array([[5.88982042]])"
      ]
     },
     "execution_count": 175,
     "metadata": {},
     "output_type": "execute_result"
    }
   ],
   "source": [
    "# Без смещения intercept\n",
    "X = X.reshape(n, 1)\n",
    "y = y.reshape(n, 1)\n",
    "ab = np.dot(np.linalg.inv(np.dot(X.T, X)), X.T @ y)\n",
    "ab"
   ]
  },
  {
   "cell_type": "markdown",
   "metadata": {},
   "source": [
    "$\\begin{pmatrix}\n",
    "y_1 \\\\\n",
    "y_2 \\\\\n",
    "... \\\\\n",
    "y_n\n",
    "\\end{pmatrix} = \n",
    "\\begin{pmatrix}\n",
    "1 & x_1\\\\\n",
    "1 & x_2\\\\\n",
    "...&...\\\\\n",
    "1 & x_n\\\\\n",
    "\\end{pmatrix}\\begin{pmatrix}\n",
    " \\\\\n",
    "\\beta_0 \\\\\n",
    "\\beta_1 \\\\\n",
    "\\\\\n",
    "\\end{pmatrix}$"
   ]
  },
  {
   "cell_type": "code",
   "execution_count": 115,
   "metadata": {},
   "outputs": [
    {
     "data": {
      "text/plain": [
       "array([[444.17735732],\n",
       "       [  2.62053888]])"
      ]
     },
     "execution_count": 115,
     "metadata": {},
     "output_type": "execute_result"
    }
   ],
   "source": [
    "# Со смещением intercept\n",
    "X = np.hstack([np.ones((n, 1)), X])\n",
    "y = y.reshape(n, 1)\n",
    "ab = np.dot(np.linalg.inv(np.dot(X.T, X)), X.T @ y)\n",
    "ab"
   ]
  },
  {
   "cell_type": "markdown",
   "metadata": {},
   "source": [
    "**2**<br>\n",
    "Посчитать коэффициент линейной регрессии при заработной плате (zp), используя градиентный спуск (без intercept)."
   ]
  },
  {
   "cell_type": "code",
   "execution_count": 128,
   "metadata": {},
   "outputs": [],
   "source": [
    "def calc_mse(n, X, y, b1):\n",
    "    return np.sum((b1*X-y)**2)/n "
   ]
  },
  {
   "cell_type": "code",
   "execution_count": 137,
   "metadata": {},
   "outputs": [
    {
     "name": "stdout",
     "output_type": "stream",
     "text": [
      "Itearion: 0, mse=1066951.0965967271\n",
      "Itearion: 1000, mse=861708.3081996046\n",
      "Itearion: 2000, mse=743433.160634889\n",
      "Itearion: 3000, mse=675274.8071029342\n",
      "Itearion: 4000, mse=635997.2306057666\n",
      "Itearion: 5000, mse=613362.7634341442\n",
      "Itearion: 6000, mse=600319.211620804\n",
      "Itearion: 7000, mse=592802.6112689037\n",
      "Itearion: 8000, mse=588471.0241629741\n",
      "Itearion: 9000, mse=585974.8628695895\n"
     ]
    }
   ],
   "source": [
    "b1 = 0.01; alpha=1e-8\n",
    "for i in range(10_000):\n",
    "    b1 -= alpha * (2/n) * np.sum((b1*X-y)*X)\n",
    "    if i % 1000 == 0:\n",
    "        print(f'Itearion: {i}, mse={calc_mse(n, X, y, b1)}')"
   ]
  },
  {
   "cell_type": "markdown",
   "metadata": {},
   "source": [
    "**3**<br>В каких случаях для вычисления доверительных интервалов и проверки статистических гипотез используется таблица значений функции Лапласа, а в каких - таблица критических точек распределения Стьюдента? "
   ]
  },
  {
   "cell_type": "markdown",
   "metadata": {},
   "source": [
    "*Если значение $\\sigma$ генеральной выборки известно, то используется таблица Z-значений (значений функции Лапласа), если не известно - то по степени свободы (n-1) и вероятности $\\alpha$ находится значение критерия в таблице Стьюдента*"
   ]
  },
  {
   "cell_type": "markdown",
   "metadata": {},
   "source": [
    "***4**<br> Произвести вычисления как в пункте 2, но с вычислением intercept. Учесть, что изменение коэффициентов должно производиться на каждом шаге одновременно (то есть изменение одного коэффициента не должно влиять на изменение другого во время одной итерации)."
   ]
  },
  {
   "cell_type": "code",
   "execution_count": 147,
   "metadata": {},
   "outputs": [],
   "source": [
    "def calc_mse(n, X, y, b0, b1):\n",
    "    return np.sum((b0+b1*X-y)**2)/n "
   ]
  },
  {
   "cell_type": "code",
   "execution_count": 169,
   "metadata": {},
   "outputs": [
    {
     "name": "stdout",
     "output_type": "stream",
     "text": [
      "Itearion: 0, mse=493102.2473380378\n",
      "Itearion: 100000, mse=51659.14446271713\n",
      "Itearion: 200000, mse=47299.194496325494\n",
      "Itearion: 300000, mse=43359.906132935954\n",
      "Itearion: 400000, mse=39800.69262600216\n",
      "Itearion: 500000, mse=36584.8831651681\n",
      "Itearion: 600000, mse=33679.34505450296\n",
      "Itearion: 700000, mse=31054.142344161064\n",
      "Itearion: 800000, mse=28682.227398322644\n",
      "Itearion: 900000, mse=26539.162221632003\n"
     ]
    }
   ],
   "source": [
    "b0=0.1; b1 = 0.1; alpha=1e-6\n",
    "mses = []\n",
    "for i in range(1_000_000):\n",
    "    pred = b0 + b1*X\n",
    "    b0 -= alpha * (2/n) * np.sum(pred - y)\n",
    "    b1 -= alpha * (2/n) * np.sum((pred - y)*X)\n",
    "    mses.append(calc_mse(n, X, y, b0, b1))\n",
    "    if i % 100000 == 0:\n",
    "        print(f'Itearion: {i}, mse={calc_mse(n, X, y, b0, b1)}')"
   ]
  },
  {
   "cell_type": "code",
   "execution_count": 173,
   "metadata": {},
   "outputs": [
    {
     "data": {
      "image/png": "[encoded data removed]",
      "text/plain": [
       "<Figure size 432x288 with 1 Axes>"
      ]
     },
     "metadata": {
      "needs_background": "light"
     },
     "output_type": "display_data"
    }
   ],
   "source": [
    "plt.scatter(X, y)\n",
    "plt.scatter(X, pred, color='red');"
   ]
  },
  {
   "cell_type": "code",
   "execution_count": 174,
   "metadata": {},
   "outputs": [
    {
     "data": {
      "text/plain": [
       "array([401, 574, 874, 919, 459, 739, 653, 902, 746, 832])"
      ]
     },
     "execution_count": 174,
     "metadata": {},
     "output_type": "execute_result"
    }
   ],
   "source": [
    "y"
   ]
  },
  {
   "cell_type": "code",
   "execution_count": 171,
   "metadata": {},
   "outputs": [
    {
     "data": {
      "text/plain": [
       "array([ 337.41133879,  383.29570013, 1048.61893959, 1094.50330093,\n",
       "        360.35351946,  498.00660349,  424.59162534,  865.08149422,\n",
       "        727.4284102 ,  681.54404886])"
      ]
     },
     "execution_count": 171,
     "metadata": {},
     "output_type": "execute_result"
    }
   ],
   "source": [
    "pred"
   ]
  }
 ],
 "metadata": {
  "kernelspec": {
   "display_name": "Python 3",
   "language": "python",
   "name": "python3"
  },
  "language_info": {
   "codemirror_mode": {
    "name": "ipython",
    "version": 3
   },
   "file_extension": ".py",
   "mimetype": "text/x-python",
   "name": "python",
   "nbconvert_exporter": "python",
   "pygments_lexer": "ipython3",
   "version": "3.8.5"
  },
  "toc": {
   "base_numbering": 1,
   "nav_menu": {},
   "number_sections": true,
   "sideBar": true,
   "skip_h1_title": false,
   "title_cell": "Table of Contents",
   "title_sidebar": "Contents",
   "toc_cell": false,
   "toc_position": {},
   "toc_section_display": true,
   "toc_window_display": false
  }
 },
 "nbformat": 4,
 "nbformat_minor": 4
}
