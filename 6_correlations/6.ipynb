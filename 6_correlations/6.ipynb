{
 "cells": [
  {
   "cell_type": "code",
   "execution_count": 2,
   "metadata": {},
   "outputs": [],
   "source": [
    "import numpy as np"
   ]
  },
  {
   "cell_type": "markdown",
   "metadata": {},
   "source": [
    "**1**<br>\n",
    "Даны значения величины заработной платы заемщиков банка (zp) и значения их поведенческого кредитного скоринга (ks):\n",
    "zp = [35, 45, 190, 200, 40, 70, 54, 150, 120, 110],\n",
    "ks = [401, 574, 874, 919, 459, 739, 653, 902, 746, 832].\n",
    "Найдите ковариацию этих двух величин с помощью элементарных действий, а затем с помощью функции cov из numpy\n",
    "Полученные значения должны быть равны.\n",
    "Найдите коэффициент корреляции Пирсона с помощью ковариации и среднеквадратичных отклонений двух признаков,\n",
    "а затем с использованием функций из библиотек numpy и pandas."
   ]
  },
  {
   "cell_type": "code",
   "execution_count": 9,
   "metadata": {},
   "outputs": [],
   "source": [
    "def mean(l: list) -> float:\n",
    "    return sum(l) / len(l)"
   ]
  },
  {
   "cell_type": "code",
   "execution_count": 10,
   "metadata": {},
   "outputs": [],
   "source": [
    "def covariance(l1: list, l2: list, unbiased: bool = True) -> float:\n",
    "    \"\"\"Выборочная ковариация.\n",
    "    \"\"\"\n",
    "\n",
    "    mean1 = mean(l1)\n",
    "    mean2 = mean(l2)\n",
    "    \n",
    "    l = list(map(lambda x, y: (x - mean1) * (y - mean2), l1, l2))\n",
    "    \n",
    "    return sum(l) / (len(l) - int(unbiased))"
   ]
  },
  {
   "cell_type": "code",
   "execution_count": 12,
   "metadata": {},
   "outputs": [
    {
     "name": "stdout",
     "output_type": "stream",
     "text": [
      "Ковариация несмещенная = 10175.377777777778\n",
      "Ковариация смещенная = 9157.839999999997\n"
     ]
    }
   ],
   "source": [
    "zp = np.array([35, 45, 190, 200, 40, 70, 54, 150, 120, 110])\n",
    "ks = np.array([401, 574, 874, 919, 459, 739, 653, 902, 746, 832])\n",
    "\n",
    "cov_biased = (zp*ks).mean() - zp.mean()*ks.mean()\n",
    "cov_unbiased = covariance(zp, ks)\n",
    "print(\"Ковариация несмещенная =\", cov_unbiased)\n",
    "print(\"Ковариация смещенная =\", cov_biased)"
   ]
  },
  {
   "cell_type": "code",
   "execution_count": 13,
   "metadata": {},
   "outputs": [
    {
     "name": "stdout",
     "output_type": "stream",
     "text": [
      "np.cov(ddof=1): [[ 3882.93333333 10175.37777778]\n",
      " [10175.37777778 33854.32222222]]\n",
      "np.cov(ddof=1): [[ 3882.93333333 10175.37777778]\n",
      " [10175.37777778 33854.32222222]]\n"
     ]
    }
   ],
   "source": [
    "print(\"np.cov(ddof=0):\", np.cov(zp, ks, ddof=1))\n",
    "print(\"np.cov(ddof=1):\", np.cov(zp, ks, ddof=1))"
   ]
  },
  {
   "cell_type": "code",
   "execution_count": 16,
   "metadata": {},
   "outputs": [
    {
     "name": "stdout",
     "output_type": "stream",
     "text": [
      "Коэффициент корреляции Пирсона = 0.9861001023043512\n",
      "np.corrcoef: [[1.         0.88749009]\n",
      " [0.88749009 1.        ]]\n"
     ]
    }
   ],
   "source": [
    "r = cov_unbiased / (zp.std() * ks.std())\n",
    "print('Коэффициент корреляции Пирсона =', r)\n",
    "print('np.corrcoef:', np.corrcoef(zp, ks))"
   ]
  },
  {
   "cell_type": "markdown",
   "metadata": {},
   "source": [
    "**2**<br>\n",
    "Измерены значения IQ выборки студентов,\n",
    "обучающихся в местных технических вузах:\n",
    "131, 125, 115, 122, 131, 115, 107, 99, 125, 111.\n",
    "Известно, что в генеральной совокупности IQ распределен нормально.\n",
    "Найдите доверительный интервал для математического ожидания с надежностью 0.95."
   ]
  },
  {
   "cell_type": "code",
   "execution_count": 36,
   "metadata": {},
   "outputs": [
    {
     "name": "stdout",
     "output_type": "stream",
     "text": [
      "Доверительный интервал, описывающий 95% выборки:\n",
      " [110.94370977419166, 125.25629022580833]\n"
     ]
    }
   ],
   "source": [
    "iq = [131, 125, 115, 122, 131, 115, 107, 99, 125, 111]\n",
    "a = 0.05 \n",
    "n = len(iq)\n",
    "mu = np.array(iq).mean()\n",
    "std = np.array(iq).std()\n",
    "t = 2.262 # t от a/2\n",
    "print('Доверительный интервал, описывающий 95% выборки:\\n', \n",
    "      [mu-t*std/np.sqrt(n), mu+t*std/np.sqrt(n)])"
   ]
  },
  {
   "cell_type": "markdown",
   "metadata": {},
   "source": [
    "**3**<br>\n",
    "Известно, что рост футболистов в сборной распределен нормально\n",
    "с дисперсией генеральной совокупности, равной 25 кв.см. Объем выборки равен 27,\n",
    "среднее выборочное составляет 174.2. Найдите доверительный интервал для математического\n",
    "ожидания с надежностью 0.95."
   ]
  },
  {
   "cell_type": "code",
   "execution_count": 38,
   "metadata": {},
   "outputs": [
    {
     "name": "stdout",
     "output_type": "stream",
     "text": [
      "Доверительный интервал для математического ожидания с надежностью 95%: [172.31398912064722, 176.08601087935276]\n"
     ]
    }
   ],
   "source": [
    "d = 25; n = 27; mu = 174.2\n",
    "std = np.sqrt(d)\n",
    "Z = 1.96\n",
    "print('Доверительный интервал для математического ожидания с надежностью 95%:', \n",
    "      [mu-Z*std/np.sqrt(n), mu+Z*std/np.sqrt(n)])"
   ]
  }
 ],
 "metadata": {
  "kernelspec": {
   "display_name": "Python 3 (ipykernel)",
   "language": "python",
   "name": "python3"
  },
  "language_info": {
   "codemirror_mode": {
    "name": "ipython",
    "version": 3
   },
   "file_extension": ".py",
   "mimetype": "text/x-python",
   "name": "python",
   "nbconvert_exporter": "python",
   "pygments_lexer": "ipython3",
   "version": "3.9.12"
  },
  "toc": {
   "base_numbering": 1,
   "nav_menu": {},
   "number_sections": true,
   "sideBar": true,
   "skip_h1_title": false,
   "title_cell": "Table of Contents",
   "title_sidebar": "Contents",
   "toc_cell": false,
   "toc_position": {},
   "toc_section_display": true,
   "toc_window_display": false
  },
  "vscode": {
   "interpreter": {
    "hash": "090ad81762ad62c6a5ce116f900fa623eaf7b1cd6cd0ef3f9318ace1340958a3"
   }
  }
 },
 "nbformat": 4,
 "nbformat_minor": 4
}
