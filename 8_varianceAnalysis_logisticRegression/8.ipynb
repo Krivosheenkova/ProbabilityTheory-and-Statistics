{
 "cells": [
  {
   "cell_type": "markdown",
   "metadata": {},
   "source": [
    "## Практическая работа #8"
   ]
  },
  {
   "cell_type": "markdown",
   "metadata": {},
   "source": [
    "**1.**<br> Провести дисперсионный анализ для определения того, есть ли различия среднего роста среди взрослых футболистов, хоккеистов и штангистов. Даны значения роста в трех группах случайно выбранных спортсменов: Футболисты: 173, 175, 180, 178, 177, 185, 183, 182. Хоккеисты: 177, 179, 180, 188, 177, 172, 171, 184, 180. Штангисты: 172, 173, 169, 177, 166, 180, 178, 177, 172, 166, 170."
   ]
  },
  {
   "cell_type": "code",
   "execution_count": 13,
   "metadata": {},
   "outputs": [],
   "source": [
    "import numpy as np\n",
    "import matplotlib.pyplot as plt\n",
    "import seaborn as sns\n",
    "import pandas as pd\n",
    "%matplotlib inline"
   ]
  },
  {
   "cell_type": "code",
   "execution_count": 34,
   "metadata": {},
   "outputs": [],
   "source": [
    "footballs = np.array([173, 175, 180, 178, 177, 185, 183, 182])\n",
    "hockeys = np.array([177, 179, 180, 188, 177, 172, 171, 184, 180])\n",
    "weightlifters = np.array([172, 173, 169, 177, 166, 180, 178, 177, 172, 166, 170])"
   ]
  },
  {
   "cell_type": "code",
   "execution_count": 51,
   "metadata": {},
   "outputs": [
    {
     "data": {
      "image/png": "[encoded data removed]",
      "text/plain": [
       "<Figure size 1008x432 with 1 Axes>"
      ]
     },
     "metadata": {
      "needs_background": "light"
     },
     "output_type": "display_data"
    }
   ],
   "source": [
    "plt.figure(figsize=(14, 6))\n",
    "plt.grid(linestyle='--')\n",
    "plt.scatter([0]*len(footballs), footballs)\n",
    "plt.plot(0, footballs.mean(), 'ro')\n",
    "plt.scatter([1]*len(hockeys), hockeys)\n",
    "plt.plot(1, hockeys.mean(), 'go')\n",
    "plt.scatter([2]*len(weightlifters), weightlifters)\n",
    "plt.plot(2, weightlifters.mean(), 'ro');\n",
    "plt.plot([0, 1, 2], [footballs.mean(), hockeys.mean(), weightlifters.mean()], 'y');"
   ]
  },
  {
   "cell_type": "code",
   "execution_count": 83,
   "metadata": {},
   "outputs": [],
   "source": [
    "n1, n2, n3 = len(footballs), len(hockeys), len(weightlifters)\n",
    "k = 3\n",
    "y1_mean = footballs.mean()\n",
    "y2_mean = hockeys.mean()\n",
    "y3_mean = weightlifters.mean()\n",
    "Y = np.concatenate([footballs, hockeys, weightlifters])\n",
    "Y_mean = Y.mean()\n",
    "s2 = np.sum((Y - Y_mean)**2)\n",
    "s2_f = ((y1_mean - Y_mean)**2) * n1 + ((y2_mean - Y_mean)**2) * n2 + ((y3_mean - Y_mean)**2) * n3"
   ]
  },
  {
   "cell_type": "code",
   "execution_count": 67,
   "metadata": {},
   "outputs": [
    {
     "data": {
      "text/plain": [
       "830.9642857142854"
      ]
     },
     "execution_count": 67,
     "metadata": {},
     "output_type": "execute_result"
    }
   ],
   "source": [
    "s2"
   ]
  },
  {
   "cell_type": "code",
   "execution_count": 79,
   "metadata": {},
   "outputs": [
    {
     "data": {
      "text/plain": [
       "577.0568181818182"
      ]
     },
     "execution_count": 79,
     "metadata": {},
     "output_type": "execute_result"
    }
   ],
   "source": [
    "np.sum((footballs - y1_mean)**2) + np.sum((hockeys - y2_mean)**2) + np.sum((weightlifters - y3_mean)**2)"
   ]
  },
  {
   "cell_type": "code",
   "execution_count": 80,
   "metadata": {},
   "outputs": [
    {
     "data": {
      "text/plain": [
       "array([ 2.77777778,  0.11111111,  1.77777778, 87.11111111,  2.77777778,\n",
       "       44.44444444, 58.77777778, 28.44444444,  1.77777778])"
      ]
     },
     "execution_count": 80,
     "metadata": {},
     "output_type": "execute_result"
    }
   ],
   "source": [
    "(hockeys - y2_mean)**2"
   ]
  },
  {
   "cell_type": "code",
   "execution_count": 81,
   "metadata": {},
   "outputs": [
    {
     "data": {
      "text/plain": [
       "array([ 0.52892562,  0.07438017, 13.89256198, 18.25619835, 45.25619835,\n",
       "       52.89256198, 27.80165289, 18.25619835,  0.52892562, 45.25619835,\n",
       "        7.43801653])"
      ]
     },
     "execution_count": 81,
     "metadata": {},
     "output_type": "execute_result"
    }
   ],
   "source": [
    "(weightlifters - y3_mean)**2"
   ]
  }
 ],
 "metadata": {
  "kernelspec": {
   "display_name": "Python 3",
   "language": "python",
   "name": "python3"
  },
  "language_info": {
   "codemirror_mode": {
    "name": "ipython",
    "version": 3
   },
   "file_extension": ".py",
   "mimetype": "text/x-python",
   "name": "python",
   "nbconvert_exporter": "python",
   "pygments_lexer": "ipython3",
   "version": "3.8.5"
  },
  "toc": {
   "base_numbering": 1,
   "nav_menu": {},
   "number_sections": true,
   "sideBar": true,
   "skip_h1_title": false,
   "title_cell": "Table of Contents",
   "title_sidebar": "Contents",
   "toc_cell": false,
   "toc_position": {},
   "toc_section_display": true,
   "toc_window_display": false
  }
 },
 "nbformat": 4,
 "nbformat_minor": 4
}
